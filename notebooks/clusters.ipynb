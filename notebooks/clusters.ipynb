{
 "cells": [
  {
   "cell_type": "code",
   "execution_count": null,
   "id": "7557289b-16bc-4c58-b243-9fbb46582b66",
   "metadata": {},
   "outputs": [],
   "source": [
    "import torch\n",
    "import numpy as np\n",
    "import matplotlib.pyplot as plt\n",
    "import csv\n",
    "from PIL import Image\n",
    "import matplotlib as mpl\n",
    "from tqdm import tqdm\n",
    "from sklearn.manifold import TSNE\n",
    "import umap \n",
    "from sklearn.metrics import silhouette_score , silhouette_samples"
   ]
  },
  {
   "cell_type": "markdown",
   "id": "74231fe0-c932-4ce6-9237-900af7d58b47",
   "metadata": {},
   "source": [
    "# Visualizing the Disregarding classes\n",
    "\n",
    "### Load data"
   ]
  },
  {
   "cell_type": "code",
   "execution_count": null,
   "id": "8130631c-eb79-4cf5-8985-1cf44c1ff11a",
   "metadata": {},
   "outputs": [],
   "source": [
    "def access_data(letter,shot):\n",
    "    feat = torch.load('features'+letter+str(shot),map_location=torch.device('cpu'))\n",
    "    classifier= torch.load('classifier'+letter,map_location=torch.device('cpu'))\n",
    "    accuracy = torch.load('complete_class_accuracy'+letter+str(shot)+'shots',map_location=torch.device('cpu'))\n",
    "    idx = torch.load('complete_class_accuracy'+letter+'idx'+str(shot)+'shots',map_location=torch.device('cpu'))\n",
    "    return feat,classifier,accuracy,idx"
   ]
  },
  {
   "cell_type": "code",
   "execution_count": null,
   "id": "d2879d29-2f71-4ad6-b2a6-9bbb01f2ccbd",
   "metadata": {},
   "outputs": [],
   "source": [
    "shot=5\n",
    "letter='A'\n",
    "feat,classifier,acc,idx = access_data(letter,shot)\n",
    "print(acc.shape)\n",
    "print(feat.shape)\n",
    "print(classifier.shape)\n",
    "print(idx.shape)"
   ]
  },
  {
   "cell_type": "code",
   "execution_count": null,
   "id": "26dc131f-5d97-47c4-8653-02e6d1dbc00a",
   "metadata": {},
   "outputs": [],
   "source": [
    "shot=5\n",
    "letter='B'\n",
    "featB,classifierB,accB,idxB = access_data(letter,shot)\n",
    "print(accB.shape)\n",
    "print(featB.shape)\n",
    "print(classifierB.shape)\n",
    "print(idxB.shape)"
   ]
  },
  {
   "cell_type": "code",
   "execution_count": null,
   "id": "8eadeed5-d191-48eb-98cd-13b158d27d05",
   "metadata": {},
   "outputs": [],
   "source": [
    "base_mean = feat[:64].mean(-2)\n",
    "base_meanB = featB[:64].mean(-2)\n",
    "print(base_mean.shape)"
   ]
  },
  {
   "cell_type": "code",
   "execution_count": null,
   "id": "2ef6e1ab-3ad3-4620-af93-d2a487d51908",
   "metadata": {},
   "outputs": [],
   "source": [
    "def proj_class(i,test_features,letter='A'):\n",
    "    if letter=='A':\n",
    "        #one projection per 64 clesses on miniimagenet\n",
    "        w=base_mean[i]    #select weights of the i-th class\n",
    "    else:\n",
    "        w=base_meanB[i] \n",
    "    proj = torch.matmul(test_features,w)/ torch.norm(w)**2    #get coef of projection and normalize\n",
    "    try:\n",
    "        projection_ortho = proj.unsqueeze(-1).repeat(1,640)\n",
    "    except:\n",
    "        projection_ortho = proj.unsqueeze(-1).repeat(1,1,640)\n",
    "    projection_ortho = projection_ortho * w                   #vector of projection along w \n",
    "    projection_ortho = test_features - projection_ortho       #projection on the orthogonal space of w\n",
    "    return projection_ortho"
   ]
  },
  {
   "cell_type": "code",
   "execution_count": null,
   "id": "df179407-29cb-4d42-8316-3ef83e1c3d9b",
   "metadata": {},
   "outputs": [],
   "source": [
    "filenametrain = '/home/r21lafar/Documents/dataset/miniimagenetimages/train.csv'\n",
    "filenametest = '/home/r21lafar/Documents/dataset/miniimagenetimages/test.csv'\n",
    "directory = '/home/r21lafar/Documents/dataset/miniimagenetimages/images/'\n",
    "def opencsv(filename):\n",
    "    file = open(filename)\n",
    "    csvreader = csv.reader(file)\n",
    "    header = []\n",
    "    header = next(csvreader)\n",
    "    print(header)\n",
    "    rowstrain = []\n",
    "    rows = []\n",
    "    for row in csvreader:\n",
    "        rows.append(row)\n",
    "    return rows\n",
    "test = opencsv(filenametest)\n",
    "train = opencsv(filenametrain)\n",
    "def openimg(cl,title):\n",
    "    if cl<64:\n",
    "        src=train\n",
    "    if cl>=80:\n",
    "        src=test\n",
    "        cl-=80\n",
    "    if type(cl)==int:\n",
    "        plt.figure(figsize=(5,5))\n",
    "        idx=int((cl+0.5)*600)+np.random.randint(-100,100)\n",
    "        filename=src[idx][0]\n",
    "        im = Image.open(directory +filename)\n",
    "        plt.title(title)\n",
    "        plt.imshow(np.array(im))"
   ]
  },
  {
   "cell_type": "code",
   "execution_count": null,
   "id": "82eaaa15-d4d6-4b26-aab6-3ac97bcd1b41",
   "metadata": {},
   "outputs": [],
   "source": [
    "def distance_from_base(proj,run,plot=False,letter='A'):\n",
    "    if letter=='A':\n",
    "        fs_run = feat[acc[0,0,run].long()]\n",
    "    else:\n",
    "        fs_run = featB[acc[0,0,run].long()]\n",
    "    if proj==-1 and run ==-1:\n",
    "        if letter=='A':\n",
    "            proto_fs = feat[-20:].mean(1)\n",
    "        else:\n",
    "            proto_fs = featB[-20:].mean(1)\n",
    "    else:\n",
    "        fs_run = torch.gather(fs_run,dim=1,index=idx[0,run].unsqueeze(-1).repeat(1,1,640).long()) \n",
    "        proto_fs = fs_run[:,:shot].mean(1)\n",
    "    if proj!=0:\n",
    "        proto_fs=proj_class(proj-1,proto_fs,letter=letter)\n",
    "    if letter=='A': \n",
    "        D = torch.cdist(proto_fs,base_mean)\n",
    "    else:\n",
    "        D = torch.cdist(proto_fs,base_meanB)\n",
    "    if plot:\n",
    "        plt.figure()\n",
    "        plt.imshow(D.detach().numpy(),aspect='auto')\n",
    "        plt.colorbar()\n",
    "        plt.title('distance between FS class mean and base class '+letter+' mean \\n (whole base dataset) projection ' +str(proj) + ' (0 is no projection)')\n",
    "        plt.xlabel('64 base class mean')\n",
    "        plt.ylabel('FS prototype of class')\n",
    "    return D"
   ]
  },
  {
   "cell_type": "markdown",
   "id": "0f27c879-ff33-4ed9-bc74-4bae72ff8a78",
   "metadata": {},
   "source": [
    "## Create FS scenarii or runs \n",
    "### 2 ways"
   ]
  },
  {
   "cell_type": "code",
   "execution_count": null,
   "id": "b00eb01e-9dc6-45e7-b3d8-1a03adbc7e4b",
   "metadata": {},
   "outputs": [],
   "source": [
    "n_runs, batch_few_shot_runs = 20,10\n",
    "n_ways=2\n",
    "def ncm(train_features, features, run_classes, run_indices, n_shots,i_proj):\n",
    "    with torch.no_grad():\n",
    "        dim = features.shape[2]\n",
    "        targets = torch.arange(n_ways).unsqueeze(1).unsqueeze(0)\n",
    "        #features = preprocess(train_features, features)\n",
    "        scores = []\n",
    "        score=0\n",
    "        for batch_idx in range(n_runs // batch_few_shot_runs):\n",
    "            runs = generate_runs(features, run_classes, run_indices, batch_idx)\n",
    "            means = torch.mean(runs[:,:,:n_shots], dim = 2)\n",
    "            var_intra = runs[:,:,:n_shots].var(2).mean(-1)\n",
    "            var_inter = runs[:,:,:n_shots].mean(2).var(1).mean(-1).unsqueeze(1)\n",
    "            var = torch.cat((var_intra,var_inter),dim=1)\n",
    "            distances = torch.norm(runs[:,:,n_shots:].reshape(batch_few_shot_runs, n_ways, 1, -1, dim) - means.reshape(batch_few_shot_runs, 1, n_ways, 1, dim), dim = 4, p = 2)\n",
    "            winners = torch.min(distances, dim = 2)[1]\n",
    "            accuracy = (winners == targets)\n",
    "            if batch_idx==0:\n",
    "                full_accuracy=accuracy\n",
    "                full_mean=means\n",
    "                full_var = var\n",
    "            else:\n",
    "                full_accuracy=torch.cat((full_accuracy,accuracy),dim=0)\n",
    "                full_mean=torch.cat((full_mean,means),dim=0)\n",
    "                full_var=torch.cat((full_var,var),dim=0)\n",
    "        return full_accuracy,full_mean,full_var\n",
    "\n",
    "    \n",
    "def generate_runs(data, run_classes, run_indices, batch_idx):\n",
    "    n_runs, n_ways, n_samples = run_classes.shape[0], run_classes.shape[1], run_indices.shape[2]\n",
    "    run_classes = run_classes[batch_idx * batch_few_shot_runs : (batch_idx + 1) * batch_few_shot_runs]\n",
    "    run_indices = run_indices[batch_idx * batch_few_shot_runs : (batch_idx + 1) * batch_few_shot_runs]\n",
    "    run_classes = run_classes.unsqueeze(2).unsqueeze(3).repeat(1,1,data.shape[1], data.shape[2])\n",
    "    run_indices = run_indices.unsqueeze(3).repeat(1, 1, 1, data.shape[2])\n",
    "    datas = data.unsqueeze(0).repeat(batch_few_shot_runs, 1, 1, 1)\n",
    "    cclasses = torch.gather(datas, 1, run_classes.to(torch.int64))\n",
    "    res = torch.gather(cclasses, 2, run_indices)\n",
    "    return res\n",
    "\n",
    "def define_runs(n_ways, n_shots, n_queries, num_classes, elements_per_class):\n",
    "    shuffle_classes = torch.LongTensor(np.arange(num_classes))\n",
    "    run_classes = torch.LongTensor(n_runs, n_ways)\n",
    "    run_indices = torch.LongTensor(n_runs, n_ways, n_shots + n_queries)\n",
    "    for i in range(n_runs):\n",
    "        run_classes[i] = torch.randperm(num_classes)[:n_ways]\n",
    "        for j in range(n_ways):\n",
    "            run_indices[i,j] = torch.randperm(elements_per_class[run_classes[i, j]])[:n_shots + n_queries]\n",
    "    return run_classes, run_indices"
   ]
  },
  {
   "cell_type": "code",
   "execution_count": null,
   "id": "1f5aa95b-cdfa-46c9-a8e6-f288c955a38d",
   "metadata": {},
   "outputs": [],
   "source": [
    "\n",
    "run_classes, run_indices = define_runs(n_ways, 5, 500,20, [600 for i in range(20)])\n",
    "A,_,full_var = ncm(feat[:64], feat[-20:], run_classes, run_indices, 5,0)\n",
    "B,_,full_var = ncm(featB[:64], featB[-20:],run_classes, run_indices, 5,0)\n",
    "plt.plot(A.float().mean(-1).mean(-1),label='backbone A')\n",
    "plt.plot(B.float().mean(-1).mean(-1),label='backbone B')\n",
    "plt.legend()\n",
    "plt.xlabel('run')\n",
    "plt.ylabel('accuracy')\n",
    "plt.title('no projection')"
   ]
  },
  {
   "cell_type": "code",
   "execution_count": null,
   "id": "2392355e-ec23-4218-b4df-8989e75573f0",
   "metadata": {},
   "outputs": [],
   "source": [
    "for i in tqdm(range(65)):\n",
    "    if i!=0:\n",
    "        feature=proj_class(i-1,feat,'A')\n",
    "        featureB=proj_class(i-1,featB,'B')\n",
    "    else:\n",
    "        feature =feat\n",
    "        featureB =featB\n",
    "    A,meanA,varA = ncm(feature[:64], feature[-20:], run_classes, run_indices, 5,0)\n",
    "    B,meanB,varB = ncm(featureB[:64], featureB[-20:],run_classes, run_indices, 5,0)\n",
    "    if i==0:\n",
    "        fullA = A.unsqueeze(0)\n",
    "        fullB = B.unsqueeze(0)\n",
    "        fullmeanA = meanA.unsqueeze(0)\n",
    "        fullmeanB = meanB.unsqueeze(0)\n",
    "        fullvarA = varA.unsqueeze(0)\n",
    "        fullvarB = varB.unsqueeze(0)\n",
    "    else:\n",
    "        fullA = torch.cat((fullA, A.unsqueeze(0)) ,dim = 0)\n",
    "        fullB = torch.cat((fullB, B.unsqueeze(0)) ,dim = 0)\n",
    "        fullmeanA = torch.cat((fullmeanA, meanA.unsqueeze(0)) ,dim = 0)\n",
    "        fullmeanB = torch.cat((fullmeanB, meanB.unsqueeze(0)) ,dim = 0)\n",
    "        fullvarA = torch.cat((fullvarA, varA.unsqueeze(0)) ,dim = 0)\n",
    "        fullvarB = torch.cat((fullvarB, varB.unsqueeze(0)) ,dim = 0)"
   ]
  },
  {
   "cell_type": "code",
   "execution_count": null,
   "id": "7aa8ee4c-1eaf-455a-a89a-76a1e309a635",
   "metadata": {},
   "outputs": [],
   "source": [
    "def what_proj(run):\n",
    "    return fullA[:,run].float().mean(-1).mean(-1).argsort()-1"
   ]
  },
  {
   "cell_type": "code",
   "execution_count": null,
   "id": "158e66fd-b866-4200-a76c-61711dd74189",
   "metadata": {},
   "outputs": [],
   "source": [
    "fullA[0,2,0].float().mean(-1)"
   ]
  },
  {
   "cell_type": "code",
   "execution_count": null,
   "id": "ee32f65c-06d0-4f2b-80bd-b01dcf218465",
   "metadata": {},
   "outputs": [],
   "source": [
    "run=0\n",
    "fullvarA[0,run,:2].mean(-1)-fullvarA[0,run,2]"
   ]
  },
  {
   "cell_type": "code",
   "execution_count": null,
   "id": "3b4b0b93-d8e7-4520-bf04-5b9e569121b7",
   "metadata": {},
   "outputs": [],
   "source": [
    "for prj in [0,1,2,3]:\n",
    "    plt.plot(fullvarA[prj,:,:2].mean(-1)-fullvarA[prj,:,2],fullA[prj,:,:].float().mean(-1).mean(-1),'.',label='projection '+ str(prj))\n",
    "plt.xlabel('intraclass var -(minus)- interclass var')\n",
    "plt.ylabel('accuracy of run')\n",
    "plt.legend()\n",
    "plt.title('20 runs')"
   ]
  },
  {
   "cell_type": "code",
   "execution_count": null,
   "id": "8c964b1c-289c-4980-a043-d1bc92002415",
   "metadata": {},
   "outputs": [],
   "source": [
    "best_boost =fullA.float().mean(-1).mean(-1).max(0)[0] - fullA[0,:,:].float().mean(-1).mean(-1)\n",
    "worst_boost =fullA.float().mean(-1).mean(-1).min(0)[0] - fullA[0,:,:].float().mean(-1).mean(-1)"
   ]
  },
  {
   "cell_type": "code",
   "execution_count": null,
   "id": "5d910925-0ad7-41dd-9092-510fd6ec05d8",
   "metadata": {},
   "outputs": [],
   "source": [
    "best_boost_id = fullA[:,:,:].float().mean(-1).mean(-1).max(0)[1]\n",
    "worst_boost_id = fullA[:,:,:].float().mean(-1).mean(-1).min(0)[1]"
   ]
  },
  {
   "cell_type": "code",
   "execution_count": null,
   "id": "7a818074-3f02-4a96-b7e6-e987e1065914",
   "metadata": {},
   "outputs": [],
   "source": [
    "intrater = fullvarA[:,:,:2].mean(-1)-fullvarA[:,:,2]\n",
    "intrater_min = intrater.min(0)[1]\n",
    "intrater_max = intrater.max(0)[1]\n"
   ]
  },
  {
   "cell_type": "code",
   "execution_count": null,
   "id": "4dac8946-f1cb-4321-8520-7b9f3adf8256",
   "metadata": {},
   "outputs": [],
   "source": [
    "boost = torch.zeros(intrater_min.shape)\n",
    "for i in range(intrater_min.shape[0]):\n",
    "    boost[i] = fullA[intrater_min[i],i].float().mean(-1).mean(-1)-fullA[0,i].float().mean(-1).mean(-1)"
   ]
  },
  {
   "cell_type": "code",
   "execution_count": null,
   "id": "8b592ac3-8ac9-4e43-a0c8-2536a496f25b",
   "metadata": {},
   "outputs": [],
   "source": [
    "boost_max = torch.zeros(intrater_min.shape)\n",
    "for i in range(intrater_min.shape[0]):\n",
    "    boost_max[i] = fullA[intrater_max[i],i].float().mean(-1).mean(-1)-fullA[0,i].float().mean(-1).mean(-1)"
   ]
  },
  {
   "cell_type": "code",
   "execution_count": null,
   "id": "d297da14-dea3-4ddd-bdc9-4cb59f28f328",
   "metadata": {},
   "outputs": [],
   "source": [
    "fullA.shape"
   ]
  },
  {
   "cell_type": "code",
   "execution_count": null,
   "id": "82014104-c745-45af-88ce-e29d744d8260",
   "metadata": {},
   "outputs": [],
   "source": []
  },
  {
   "cell_type": "code",
   "execution_count": null,
   "id": "52e1cf6a-bb44-4c78-bba9-0439f613f0be",
   "metadata": {},
   "outputs": [],
   "source": [
    "\n",
    "plt.hlines(y=0 ,xmin=0,xmax = 20)\n",
    "plt.plot(boost,'*',label='proj with min intra - inter')\n",
    "plt.plot(boost_max,'*',label='proj with max intra - inter')\n",
    "plt.plot(best_boost,'*',label='best boost')\n",
    "plt.xlabel('run')\n",
    "plt.ylabel('boost')\n",
    "plt.legend()"
   ]
  },
  {
   "cell_type": "code",
   "execution_count": null,
   "id": "ad7b27ee-9e0e-4be1-a0b2-1712ddf09853",
   "metadata": {},
   "outputs": [],
   "source": [
    "intrater_best_boost = torch.zeros(intrater_min.shape)\n",
    "for i in range(intrater_min.shape[0]):\n",
    "    intrater_best_boost[i] = intrater[best_boost_id[i],i]"
   ]
  },
  {
   "cell_type": "code",
   "execution_count": null,
   "id": "f5612d79-0ed4-4858-90d4-955b011126c9",
   "metadata": {},
   "outputs": [],
   "source": [
    "plt.plot(intrater_best_boost,'.', label = 'best boost')\n",
    "plt.plot(intrater.mean(0),'.', label = 'mean intra -inter')\n",
    "plt.plot(intrater.min(0)[0],'.', label = 'minimum intra -inter')\n",
    "plt.plot(intrater.max(0)[0],'.', label = 'maximum intra -inter')\n",
    "plt.ylabel('intra-class - interclass variance')\n",
    "plt.xlabel('run')\n",
    "plt.legend()"
   ]
  },
  {
   "cell_type": "code",
   "execution_count": null,
   "id": "a66a386c-4b2f-4bb9-91d0-36730b061790",
   "metadata": {},
   "outputs": [],
   "source": [
    "intrater.min(dim=0)[0]"
   ]
  },
  {
   "cell_type": "code",
   "execution_count": null,
   "id": "3e597fc7-9ac2-498f-9588-f989b78ba48b",
   "metadata": {},
   "outputs": [],
   "source": [
    "\n",
    "\n",
    "\n",
    "\n",
    "\n",
    "\n",
    "\n",
    "\n",
    "\n",
    "\n",
    "\n",
    "\n",
    "\n",
    "\n",
    "\n",
    "\n",
    "\n",
    "\n",
    "\n"
   ]
  },
  {
   "cell_type": "code",
   "execution_count": null,
   "id": "2148c816-609d-43f8-bd2d-15569506dd57",
   "metadata": {},
   "outputs": [],
   "source": [
    "%matplotlib inline\n",
    "run = 12\n",
    "nb_sample=30\n",
    "mk_size=4\n",
    "plt.figure()\n",
    "plt.plot(fullA[:,run].float().mean(-1).mean(-1))\n",
    "\n",
    "\n",
    "plt.figure()\n",
    "plt.plot(fullvarA[:,run].float().mean(-1).mean(-1))\n",
    "\n",
    "FULLumap = torch.cat((base_mean,fullmeanA[0,run],feat[80+run_classes[run],:nb_sample].reshape(n_ways*nb_sample,640) ))\n",
    "umapA=umap.UMAP().fit_transform(FULLumap)\n",
    "plt.figure()\n",
    "plt.plot(umapA[:64,0],umapA[:64,1],'o',label='base', c='b')\n",
    "plt.plot(umapA[64,0],umapA[64,1],'*',label='proto 0', c='purple',markersize=20)\n",
    "plt.plot(umapA[65,0],umapA[65,1],'*',label='proto 1', c='k',markersize=20)\n",
    "\n",
    "plt.plot(umapA[69:69+nb_sample,0],umapA[64+5:69+nb_sample,1],'.',label='samples 0',markersize=mk_size, c='purple')\n",
    "plt.plot(umapA[64+5+nb_sample:69+nb_sample*2,0],umapA[64+5+nb_sample:69+nb_sample*2,1],'.',label='samples 1',markersize=mk_size, c='k')\n",
    "\n",
    "plt.legend()\n",
    "\n",
    "boost = fullA[:,run].float().mean(-1).mean(-1)-fullA[0,run].float().mean(-1).mean(-1)\n",
    "example = what_proj(run)\n",
    "signboost = boost>=0.\n",
    "label = [str(i) for i in range(65)]\n",
    "couleur = ['red','green']\n",
    "for i in range(len(label)):\n",
    "    plt.annotate(label[i], (umapA[example[i],0], umapA[example[i],1]), color = couleur[signboost[example[i]]*1])"
   ]
  },
  {
   "cell_type": "code",
   "execution_count": null,
   "id": "1b356cff-5c40-4046-b497-4d3d6e846882",
   "metadata": {},
   "outputs": [],
   "source": [
    "%matplotlib inline\n",
    "run = 0\n",
    "plt.plot(fullA[:,run].float().mean(-1).mean(-1),label='backbone A')\n",
    "plt.plot(fullB[:,run].float().mean(-1).mean(-1),label='backbone B')\n",
    "plt.legend()\n",
    "plt.xlabel('projection')\n",
    "plt.ylabel('accuracy')\n",
    "print(fullA[:,run].shape)"
   ]
  },
  {
   "cell_type": "code",
   "execution_count": null,
   "id": "df962bf8-d259-4a4f-9a74-0cdb5e1763aa",
   "metadata": {},
   "outputs": [],
   "source": [
    "feat.shape"
   ]
  },
  {
   "cell_type": "code",
   "execution_count": null,
   "id": "0bcd8cab-3232-47b6-a48b-be5e9af5c04f",
   "metadata": {},
   "outputs": [],
   "source": [
    "nb_samples = 100\n",
    "feat_sil = feat[:,:nb_samples].reshape(-1,640)"
   ]
  },
  {
   "cell_type": "code",
   "execution_count": null,
   "id": "11cf062c-da7b-4fb4-b8b3-f87695843ee4",
   "metadata": {},
   "outputs": [],
   "source": [
    "labels = torch.arange(0,100).unsqueeze(1).repeat(1,nb_samples).reshape(-1)"
   ]
  },
  {
   "cell_type": "code",
   "execution_count": null,
   "id": "294d180b-2192-4a02-83dd-65428c79382c",
   "metadata": {},
   "outputs": [],
   "source": [
    "sil = silhouette_samples(feat_sil,labels)"
   ]
  },
  {
   "cell_type": "code",
   "execution_count": null,
   "id": "d69960bf-1c4a-46b7-9794-d2605f06dc97",
   "metadata": {},
   "outputs": [],
   "source": [
    "sil_r = sil.reshape(100,nb_samples)"
   ]
  },
  {
   "cell_type": "code",
   "execution_count": null,
   "id": "3b71c038-80ed-4a46-b3aa-c812f439a0f5",
   "metadata": {},
   "outputs": [],
   "source": [
    "plt.plot(sil_r.mean(1),'.')\n",
    "plt.xlabel('class')\n",
    "plt.ylabel('silhouette')\n",
    "plt.vlines(x=64,ymin=sil_r.mean(1).min(),ymax = sil_r.mean(1).max())\n",
    "plt.vlines(x=64+20,ymin=sil_r.mean(1).min(),ymax = sil_r.mean(1).max())"
   ]
  },
  {
   "cell_type": "code",
   "execution_count": null,
   "id": "d5bce269-1d8e-4f66-aaad-6f101d6682d7",
   "metadata": {},
   "outputs": [],
   "source": [
    "feat.shape"
   ]
  },
  {
   "cell_type": "code",
   "execution_count": null,
   "id": "8047b5b1-2514-4252-8cdf-43df313120b6",
   "metadata": {},
   "outputs": [],
   "source": [
    "plt.plot(feat.var(1).mean(1),'.',label='intra class variance')\n",
    "plt.hlines(y=feat.mean(1).var(0).mean(),xmin=0,xmax=100,label='interclass variance')\n",
    "plt.legend()\n",
    "plt.xlabel('class')\n",
    "plt.ylabel('mean variance over features')\n",
    "plt.title('whole dataset')"
   ]
  },
  {
   "cell_type": "markdown",
   "id": "29e421fa-8af8-4397-9d3e-088cf69d3f2a",
   "metadata": {},
   "source": [
    "## Test projection on vector v_1 - v_2"
   ]
  },
  {
   "cell_type": "code",
   "execution_count": null,
   "id": "5e17e512-1f01-4af9-ad46-8532f171ffbf",
   "metadata": {},
   "outputs": [],
   "source": []
  }
 ],
 "metadata": {
  "kernelspec": {
   "display_name": "Python 3 (ipykernel)",
   "language": "python",
   "name": "python3"
  },
  "language_info": {
   "codemirror_mode": {
    "name": "ipython",
    "version": 3
   },
   "file_extension": ".py",
   "mimetype": "text/x-python",
   "name": "python",
   "nbconvert_exporter": "python",
   "pygments_lexer": "ipython3",
   "version": "3.8.10"
  }
 },
 "nbformat": 4,
 "nbformat_minor": 5
}
