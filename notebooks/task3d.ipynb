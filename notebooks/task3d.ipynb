{
 "cells": [
  {
   "cell_type": "code",
   "execution_count": null,
   "id": "3762ada9-c337-46c0-8b72-5a8d4b97eb2b",
   "metadata": {},
   "outputs": [],
   "source": [
    "import torch\n",
    "import numpy\n",
    "import matplotlib.pyplot as plt\n",
    "from mpl_toolkits.mplot3d import Axes3D \n",
    "import matplotlib as mpl\n",
    "from sklearn.decomposition import PCA"
   ]
  },
  {
   "cell_type": "code",
   "execution_count": null,
   "id": "d3023a4c-5afd-4bd6-a22a-9046f86dbcd0",
   "metadata": {},
   "outputs": [],
   "source": [
    "fm = torch.load('features_merged.pt')"
   ]
  },
  {
   "cell_type": "code",
   "execution_count": null,
   "id": "2553216b-2e56-44f4-8953-ed0eca09e632",
   "metadata": {},
   "outputs": [],
   "source": [
    "f1 = fm[-3:,:,:640]\n",
    "\n"
   ]
  },
  {
   "cell_type": "code",
   "execution_count": null,
   "id": "34196373-ea76-4a96-9ed4-0bd878220449",
   "metadata": {},
   "outputs": [],
   "source": [
    "#pca\n",
    "pca = PCA(n_components=3)\n",
    "pca.fit(f1.reshape((-1,f1.shape[-1])))\n",
    "samples = torch.tensor([pca.transform(f1[0]),pca.transform(f1[1]),pca.transform(f1[2])])\n"
   ]
  },
  {
   "cell_type": "code",
   "execution_count": null,
   "id": "63eea002-03ec-4985-9af2-30bcad68ca69",
   "metadata": {},
   "outputs": [],
   "source": [
    "%matplotlib qt5\n",
    "s=1\n",
    "fig = plt.figure()\n",
    "ax = fig.gca(projection='3d')\n",
    "ax.scatter(0,0,0,marker='o',c='k',s=100)\n",
    "ax.scatter(samples[0,:,0].mean(),samples[0,:,1].mean(),samples[0,:,2].mean(),marker='x',c='k',s=100)\n",
    "ax.scatter(samples[1,:,0].mean(),samples[1,:,1].mean(),samples[1,:,2].mean(),marker='x',c='k',s=100)\n",
    "ax.scatter(samples[2,:,0].mean(),samples[2,:,1].mean(),samples[2,:,2].mean(),marker='x',c='k',s=100)\n",
    "ax.scatter(samples[0,:,0], samples[0,:,1], samples[0,:,2], s=s,c='blue')\n",
    "ax.scatter(samples[1,:,0], samples[1,:,1], samples[1,:,2], s=s,c='orange')\n",
    "ax.scatter(samples[2,:,0], samples[2,:,1], samples[2,:,2], s=s,c='green')"
   ]
  },
  {
   "cell_type": "code",
   "execution_count": null,
   "id": "3a8ca719-5d71-4af7-8635-682e5448bd3d",
   "metadata": {},
   "outputs": [],
   "source": [
    "%matplotlib qt5\n",
    "s=1\n",
    "fig = plt.figure()\n",
    "ax = fig.gca(projection='3d')\n",
    "ax.scatter(0,0,0,marker='x',c='k',s=100)\n",
    "ax.scatter(samples[0,:,0], samples[0,:,1], samples[0,:,2], s=s,c='blue')\n",
    "ax.scatter(samples[1,:,0], samples[1,:,1], samples[1,:,2], s=s,c='orange')\n",
    "ax.scatter(samples[2,:,0], samples[2,:,1], samples[2,:,2], s=s,c='green')\n",
    "'''ax.plot([0,samples[0,:,0].mean()],[0,samples[0,:,1].mean()],[0,samples[0,:,2].mean()],marker='x',c='k',linewidth=3,markersize=10)\n",
    "ax.plot([0,samples[1,:,0].mean()],[0,samples[1,:,1].mean()],[0,samples[1,:,2].mean()],marker='x',c='k',linewidth=3,markersize=10)\n",
    "ax.plot([0,samples[2,:,0].mean()],[0,samples[2,:,1].mean()],[0,samples[2,:,2].mean()],marker='x',c='k',linewidth=3,markersize=10)'''\n"
   ]
  },
  {
   "cell_type": "code",
   "execution_count": null,
   "id": "f7218da7-7765-4fa1-b688-4547703ef15c",
   "metadata": {},
   "outputs": [],
   "source": [
    "def sphering(features):\n",
    "    print(features.shape)\n",
    "    print(torch.norm(features, p = 2, dim = -1, keepdim = True).shape)\n",
    "    ft = features / torch.norm(features, p = 2, dim = -1, keepdim = True)\n",
    "    ft[ft!=ft] =0.0\n",
    "    return ft\n",
    "\n",
    "def centering(features):\n",
    "    print(features.reshape(-1, features.shape[-1]).mean(dim = 0).unsqueeze(0).unsqueeze(0).shape)\n",
    "    return features - features.reshape(-1, features.shape[-1]).mean(dim = 0).unsqueeze(0).unsqueeze(0)"
   ]
  },
  {
   "cell_type": "code",
   "execution_count": null,
   "id": "05d2f42a-76f8-4ac2-92ab-b4edc345fa0f",
   "metadata": {},
   "outputs": [],
   "source": [
    "\n",
    "f1_p=torch.pow(f1,0.5)\n",
    "pca = PCA(n_components=3)\n",
    "pca.fit(f1_p.reshape((-1,f1_p.shape[-1])))\n",
    "samples_p = torch.tensor([pca.transform(f1_p[0]),pca.transform(f1_p[1]),pca.transform(f1_p[2])])\n",
    "print(torch.sum(torch.isnan(samples_p)))\n",
    "fig = plt.figure()\n",
    "ax = fig.gca(projection='3d')\n",
    "ax.scatter(0,0,0,marker='o',c='k',s=100)\n",
    "ax.scatter(samples_p[0,:,0], samples_p[0,:,1], samples_p[0,:,2],s=s)\n",
    "ax.scatter(samples_p[1,:,0], samples_p[1,:,1], samples_p[1,:,2],s=s)\n",
    "ax.scatter(samples_p[2,:,0], samples_p[2,:,1], samples_p[2,:,2],s=s)"
   ]
  },
  {
   "cell_type": "code",
   "execution_count": null,
   "id": "4ce1a21a-45ed-4c2c-9550-775379057bff",
   "metadata": {},
   "outputs": [],
   "source": [
    "\n",
    "f1_pe = sphering(f1_p)\n",
    "pca = PCA(n_components=3)\n",
    "pca.fit(f1_pe.reshape((-1,f1_pe.shape[-1])))\n",
    "samples_pe = torch.tensor([pca.transform(f1_pe[0]),pca.transform(f1_pe[1]),pca.transform(f1_pe[2])])\n",
    "fig = plt.figure()\n",
    "ax = fig.gca(projection='3d')\n",
    "ax.scatter(0,0,0,marker='o',c='k',s=100)\n",
    "ax.scatter(samples_pe[0,:,0], samples_pe[0,:,1], samples_pe[0,:,2],s=s)\n",
    "ax.scatter(samples_pe[1,:,0], samples_pe[1,:,1], samples_pe[1,:,2],s=s)\n",
    "ax.scatter(samples_pe[2,:,0], samples_pe[2,:,1], samples_pe[2,:,2],s=s)"
   ]
  },
  {
   "cell_type": "code",
   "execution_count": null,
   "id": "299ccafa-cbcc-46d3-a3e5-34dd8d5105c0",
   "metadata": {},
   "outputs": [],
   "source": [
    "\n",
    "f1_pem = centering(f1_pe)\n",
    "pca = PCA(n_components=3)\n",
    "pca.fit(f1_pem.reshape((-1,f1_pem.shape[-1])))\n",
    "samples_pem = torch.tensor([pca.transform(f1_pem[0]),pca.transform(f1_pem[1]),pca.transform(f1_pem[2])])\n",
    "fig = plt.figure()\n",
    "ax = fig.gca(projection='3d')\n",
    "ax.scatter(0,0,0,marker='o',c='k',s=100)\n",
    "ax.scatter(samples_pem[0,:,0], samples_pem[0,:,1], samples_pem[0,:,2],s=s)\n",
    "ax.scatter(samples_pem[1,:,0], samples_pem[1,:,1], samples_pem[1,:,2],s=s)\n",
    "ax.scatter(samples_pem[2,:,0], samples_pem[2,:,1], samples_pem[2,:,2],s=s)"
   ]
  },
  {
   "cell_type": "code",
   "execution_count": null,
   "id": "c6ebe386-3284-4381-9288-7389e87cd074",
   "metadata": {},
   "outputs": [],
   "source": [
    "%matplotlib qt5\n",
    "f1_peme = sphering(f1_pem)\n",
    "pca = PCA(n_components=3)\n",
    "pca.fit(f1_peme.reshape((-1,f1_peme.shape[-1])))\n",
    "samples_peme = torch.tensor([pca.transform(f1_peme[0]),pca.transform(f1_peme[1]),pca.transform(f1_peme[2])])\n",
    "fig = plt.figure()\n",
    "ax = fig.gca(projection='3d')\n",
    "ax.scatter(0,0,0,marker='o',c='k',s=100)\n",
    "ax.scatter(samples_peme[0,:,0], samples_peme[0,:,1], samples_peme[0,:,2],s=s)\n",
    "ax.scatter(samples_peme[1,:,0], samples_peme[1,:,1], samples_peme[1,:,2],s=s)\n",
    "ax.scatter(samples_peme[2,:,0], samples_peme[2,:,1], samples_peme[2,:,2],s=s)"
   ]
  },
  {
   "cell_type": "markdown",
   "id": "bad8255f-be0c-4343-88e0-b0d7394f6e1a",
   "metadata": {},
   "source": [
    "## Multi-backbone "
   ]
  },
  {
   "cell_type": "code",
   "execution_count": null,
   "id": "ba4c5d99-6afe-4a3a-809a-e8c47e04a206",
   "metadata": {},
   "outputs": [],
   "source": [
    "%matplotlib qt5\n",
    "f1_p=sphering(centering(sphering(torch.pow(fm[-3:],0.5))))\n",
    "pca = PCA(n_components=3)\n",
    "pca.fit(f1_p.reshape((-1,f1_p.shape[-1])))\n",
    "samples_peme = torch.tensor([pca.transform(f1_p[0]),pca.transform(f1_p[1]),pca.transform(f1_p[2])])\n",
    "fig = plt.figure()\n",
    "ax = fig.gca(projection='3d')\n",
    "ax.scatter(0,0,0,marker='o',c='k',s=100)\n",
    "ax.scatter(samples_peme[0,:,0], samples_peme[0,:,1], samples_peme[0,:,2],s=s)\n",
    "ax.scatter(samples_peme[1,:,0], samples_peme[1,:,1], samples_peme[1,:,2],s=s)\n",
    "ax.scatter(samples_peme[2,:,0], samples_peme[2,:,1], samples_peme[2,:,2],s=s)"
   ]
  },
  {
   "cell_type": "code",
   "execution_count": null,
   "id": "f57ceaa6-45bb-43ba-82db-b0ad5edfc07f",
   "metadata": {},
   "outputs": [],
   "source": []
  }
 ],
 "metadata": {
  "kernelspec": {
   "display_name": "Python 3 (ipykernel)",
   "language": "python",
   "name": "python3"
  },
  "language_info": {
   "codemirror_mode": {
    "name": "ipython",
    "version": 3
   },
   "file_extension": ".py",
   "mimetype": "text/x-python",
   "name": "python",
   "nbconvert_exporter": "python",
   "pygments_lexer": "ipython3",
   "version": "3.8.10"
  }
 },
 "nbformat": 4,
 "nbformat_minor": 5
}
