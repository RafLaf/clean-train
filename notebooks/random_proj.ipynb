{
 "cells": [
  {
   "cell_type": "code",
   "execution_count": null,
   "id": "7557289b-16bc-4c58-b243-9fbb46582b66",
   "metadata": {},
   "outputs": [],
   "source": [
    "import torch\n",
    "import numpy as np\n",
    "import matplotlib.pyplot as plt\n",
    "import csv\n",
    "from PIL import Image\n",
    "import matplotlib as mpl\n",
    "from tqdm import tqdm\n",
    "from sklearn.manifold import TSNE\n",
    "import umap \n",
    "from sklearn.metrics.pairwise import cosine_distances"
   ]
  },
  {
   "cell_type": "markdown",
   "id": "74231fe0-c932-4ce6-9237-900af7d58b47",
   "metadata": {},
   "source": [
    "# Visualizing the Disregarding classes\n",
    "\n",
    "### Load data"
   ]
  },
  {
   "cell_type": "code",
   "execution_count": null,
   "id": "8130631c-eb79-4cf5-8985-1cf44c1ff11a",
   "metadata": {},
   "outputs": [],
   "source": [
    "def access_data(letter,shot):\n",
    "    feat = torch.load('features'+letter+str(shot),map_location=torch.device('cpu'))\n",
    "    classifier= torch.load('classifier'+letter,map_location=torch.device('cpu'))\n",
    "    accuracy = torch.load('complete_class_accuracy'+letter+str(shot)+'shots',map_location=torch.device('cpu'))\n",
    "    idx = torch.load('complete_class_accuracy'+letter+'idx'+str(shot)+'shots',map_location=torch.device('cpu'))\n",
    "    return feat,classifier,accuracy,idx"
   ]
  },
  {
   "cell_type": "code",
   "execution_count": null,
   "id": "d2879d29-2f71-4ad6-b2a6-9bbb01f2ccbd",
   "metadata": {},
   "outputs": [],
   "source": [
    "shot=5\n",
    "letter='A'\n",
    "feat,classifier,acc,idx = access_data(letter,shot)\n",
    "print(acc.shape)\n",
    "print(feat.shape)\n",
    "print(classifier.shape)\n",
    "print(idx.shape)"
   ]
  },
  {
   "cell_type": "code",
   "execution_count": null,
   "id": "26dc131f-5d97-47c4-8653-02e6d1dbc00a",
   "metadata": {},
   "outputs": [],
   "source": [
    "shot=5\n",
    "letter='B'\n",
    "featB,classifierB,accB,idxB = access_data(letter,shot)\n",
    "print(accB.shape)\n",
    "print(featB.shape)\n",
    "print(classifierB.shape)\n",
    "print(idxB.shape)"
   ]
  },
  {
   "cell_type": "code",
   "execution_count": null,
   "id": "8eadeed5-d191-48eb-98cd-13b158d27d05",
   "metadata": {},
   "outputs": [],
   "source": [
    "base_mean = feat[:64].mean(-2)\n",
    "base_meanB = featB[:64].mean(-2)\n",
    "print(base_mean.shape)\n",
    "base_random = torch.rand((64,640))\n",
    "print(base_random.shape)"
   ]
  },
  {
   "cell_type": "code",
   "execution_count": null,
   "id": "2ef6e1ab-3ad3-4620-af93-d2a487d51908",
   "metadata": {},
   "outputs": [],
   "source": [
    "def proj_class(i,test_features,letter='A',random=False):\n",
    "    if random:\n",
    "        w=base_random[i]\n",
    "    else:\n",
    "        if letter=='A':\n",
    "            #one projection per 64 clesses on miniimagenet\n",
    "            w=base_mean[i]    #select weights of the i-th class\n",
    "        else:\n",
    "            w=base_meanB[i] \n",
    "    proj = torch.matmul(test_features,w)/ torch.norm(w)**2    #get coef of projection and normalize\n",
    "    try:\n",
    "        projection_ortho = proj.unsqueeze(-1).repeat(1,640)\n",
    "    except:\n",
    "        projection_ortho = proj.unsqueeze(-1).repeat(1,1,640)\n",
    "    projection_ortho = projection_ortho * w                   #vector of projection along w \n",
    "    projection_ortho = test_features - projection_ortho       #projection on the orthogonal space of w\n",
    "    return projection_ortho"
   ]
  },
  {
   "cell_type": "code",
   "execution_count": null,
   "id": "df179407-29cb-4d42-8316-3ef83e1c3d9b",
   "metadata": {},
   "outputs": [],
   "source": [
    "filenametrain = '/home/r21lafar/Documents/dataset/miniimagenetimages/train.csv'\n",
    "filenametest = '/home/r21lafar/Documents/dataset/miniimagenetimages/test.csv'\n",
    "directory = '/home/r21lafar/Documents/dataset/miniimagenetimages/images/'\n",
    "def opencsv(filename):\n",
    "    file = open(filename)\n",
    "    csvreader = csv.reader(file)\n",
    "    header = []\n",
    "    header = next(csvreader)\n",
    "    print(header)\n",
    "    rowstrain = []\n",
    "    rows = []\n",
    "    for row in csvreader:\n",
    "        rows.append(row)\n",
    "    return rows\n",
    "test = opencsv(filenametest)\n",
    "train = opencsv(filenametrain)\n",
    "def openimg(cl,title):\n",
    "    if cl<64:\n",
    "        src=train\n",
    "    if cl>=80:\n",
    "        src=test\n",
    "        cl-=80\n",
    "    if type(cl)==int:\n",
    "        plt.figure(figsize=(5,5))\n",
    "        idx=int((cl+0.5)*600)+np.random.randint(-100,100)\n",
    "        filename=src[idx][0]\n",
    "        im = Image.open(directory +filename)\n",
    "        plt.title(title)\n",
    "        plt.imshow(np.array(im))"
   ]
  },
  {
   "cell_type": "code",
   "execution_count": null,
   "id": "82eaaa15-d4d6-4b26-aab6-3ac97bcd1b41",
   "metadata": {},
   "outputs": [],
   "source": [
    "def distance_from_base(proj,run,plot=False,letter='A'):\n",
    "    if letter=='A':\n",
    "        fs_run = feat[acc[0,0,run].long()]\n",
    "    else:\n",
    "        fs_run = featB[acc[0,0,run].long()]\n",
    "    if proj==-1 and run ==-1:\n",
    "        if letter=='A':\n",
    "            proto_fs = feat[-20:].mean(1)\n",
    "        else:\n",
    "            proto_fs = featB[-20:].mean(1)\n",
    "    else:\n",
    "        fs_run = torch.gather(fs_run,dim=1,index=idx[0,run].unsqueeze(-1).repeat(1,1,640).long()) \n",
    "        proto_fs = fs_run[:,:shot].mean(1)\n",
    "    if proj!=0:\n",
    "        proto_fs=proj_class(proj-1,proto_fs,letter=letter)\n",
    "    if letter=='A': \n",
    "        D = torch.cdist(proto_fs,base_mean)\n",
    "    else:\n",
    "        D = torch.cdist(proto_fs,base_meanB)\n",
    "    if plot:\n",
    "        plt.figure()\n",
    "        plt.imshow(D.detach().numpy(),aspect='auto')\n",
    "        plt.colorbar()\n",
    "        plt.title('distance between FS class mean and base class '+letter+' mean \\n (whole base dataset) projection ' +str(proj) + ' (0 is no projection)')\n",
    "        plt.xlabel('64 base class mean')\n",
    "        plt.ylabel('FS prototype of class')\n",
    "    return D"
   ]
  },
  {
   "cell_type": "markdown",
   "id": "0f27c879-ff33-4ed9-bc74-4bae72ff8a78",
   "metadata": {},
   "source": [
    "## Create FS scenarii or runs \n",
    "### 2 ways"
   ]
  },
  {
   "cell_type": "code",
   "execution_count": null,
   "id": "b00eb01e-9dc6-45e7-b3d8-1a03adbc7e4b",
   "metadata": {},
   "outputs": [],
   "source": [
    "n_runs, batch_few_shot_runs = 500,10\n",
    "n_ways=5\n",
    "def ncm(train_features, features, run_classes, run_indices, n_shots,i_proj):\n",
    "    global winners\n",
    "    with torch.no_grad():\n",
    "        dim = features.shape[2]\n",
    "        targets = torch.arange(n_ways).unsqueeze(1).unsqueeze(0)\n",
    "        #features = preprocess(train_features, features)\n",
    "        scores = []\n",
    "        score=0\n",
    "        for batch_idx in range(n_runs // batch_few_shot_runs):\n",
    "            runs = generate_runs(features, run_classes, run_indices, batch_idx)\n",
    "            means = torch.mean(runs[:,:,:n_shots], dim = 2)\n",
    "            distances = torch.norm(runs[:,:,n_shots:].reshape(batch_few_shot_runs, n_ways, 1, -1, dim) - means.reshape(batch_few_shot_runs, 1, n_ways, 1, dim), dim = 4, p = 2)\n",
    "            winners = torch.min(distances, dim = 2)[1]\n",
    "            accuracy = (winners == targets)\n",
    "            if batch_idx==0:\n",
    "                full_accuracy=accuracy\n",
    "                full_mean=means\n",
    "            else:\n",
    "                full_accuracy=torch.cat((full_accuracy,accuracy),dim=0)\n",
    "                full_mean=torch.cat((full_mean,means),dim=0)\n",
    "        return full_accuracy,full_mean\n",
    "\n",
    "    \n",
    "def generate_runs(data, run_classes, run_indices, batch_idx):\n",
    "    n_runs, n_ways, n_samples = run_classes.shape[0], run_classes.shape[1], run_indices.shape[2]\n",
    "    run_classes = run_classes[batch_idx * batch_few_shot_runs : (batch_idx + 1) * batch_few_shot_runs]\n",
    "    run_indices = run_indices[batch_idx * batch_few_shot_runs : (batch_idx + 1) * batch_few_shot_runs]\n",
    "    run_classes = run_classes.unsqueeze(2).unsqueeze(3).repeat(1,1,data.shape[1], data.shape[2])\n",
    "    run_indices = run_indices.unsqueeze(3).repeat(1, 1, 1, data.shape[2])\n",
    "    datas = data.unsqueeze(0).repeat(batch_few_shot_runs, 1, 1, 1)\n",
    "    cclasses = torch.gather(datas, 1, run_classes.to(torch.int64))\n",
    "    res = torch.gather(cclasses, 2, run_indices)\n",
    "    return res\n",
    "\n",
    "def define_runs(n_ways, n_shots, n_queries, num_classes, elements_per_class):\n",
    "    shuffle_classes = torch.LongTensor(np.arange(num_classes))\n",
    "    run_classes = torch.LongTensor(n_runs, n_ways)\n",
    "    run_indices = torch.LongTensor(n_runs, n_ways, n_shots + n_queries)\n",
    "    for i in range(n_runs):\n",
    "        run_classes[i] = torch.randperm(num_classes)[:n_ways]\n",
    "        for j in range(n_ways):\n",
    "            run_indices[i,j] = torch.randperm(elements_per_class[run_classes[i, j]])[:n_shots + n_queries]\n",
    "    return run_classes, run_indices"
   ]
  },
  {
   "cell_type": "code",
   "execution_count": null,
   "id": "a03ea6da-4882-49bc-8070-b18135b2f4df",
   "metadata": {},
   "outputs": [],
   "source": [
    "run_classes, run_indices = define_runs(n_ways, 5, 500,20, [600 for i in range(20)])"
   ]
  },
  {
   "cell_type": "code",
   "execution_count": null,
   "id": "2392355e-ec23-4218-b4df-8989e75573f0",
   "metadata": {},
   "outputs": [],
   "source": [
    "for i in tqdm(range(64)):\n",
    "    if i!=0:\n",
    "        feature=proj_class(i-1,feat,'A',random=True)   #RANDOM WAY NOW\n",
    "        #featureB=proj_class(i-1,featB,'B',random=True)\n",
    "    else:\n",
    "        feature =feat\n",
    "        #featureB =featB\n",
    "    A,meanA = ncm(feature[:64], feature[-20:], run_classes, run_indices, 5,0)\n",
    "    #B,meanB = ncm(featureB[:64], featureB[-20:],run_classes, run_indices, 5,0)\n",
    "    if i==0:\n",
    "        fullA = A.unsqueeze(0)\n",
    "        #fullB = B.unsqueeze(0)\n",
    "        fullmeanA = meanA.unsqueeze(0)\n",
    "        #fullmeanB = meanB.unsqueeze(0)\n",
    "    else:\n",
    "        fullA = torch.cat((fullA, A.unsqueeze(0)) ,dim = 0)\n",
    "        #fullB = torch.cat((fullB, B.unsqueeze(0)) ,dim = 0)\n",
    "        fullmeanA = torch.cat((fullmeanA, meanA.unsqueeze(0)) ,dim = 0)\n",
    "        #fullmeanB = torch.cat((fullmeanB, meanB.unsqueeze(0)) ,dim = 0)"
   ]
  },
  {
   "cell_type": "code",
   "execution_count": null,
   "id": "7aa8ee4c-1eaf-455a-a89a-76a1e309a635",
   "metadata": {},
   "outputs": [],
   "source": [
    "def what_proj(run):\n",
    "    return fullA[:,run].float().mean(-1).mean(-1).argsort()-1"
   ]
  },
  {
   "cell_type": "code",
   "execution_count": null,
   "id": "2148c816-609d-43f8-bd2d-15569506dd57",
   "metadata": {},
   "outputs": [],
   "source": [
    "%matplotlib inline\n",
    "run = 0\n",
    "mk_size=4\n",
    "plt.figure()\n",
    "plt.plot(fullA[:,run].float().mean(-1).mean(-1),'.')\n",
    "plt.hlines(y=fullA[0,run].float().mean(),xmin = 0 ,xmax =64\n",
    "           ,label='baseline no proj')\n",
    "plt.xlabel('projection (0 is no projection)')\n",
    "plt.ylabel('accuracy')\n",
    "\n"
   ]
  },
  {
   "cell_type": "code",
   "execution_count": null,
   "id": "6f3a96b1-0cc6-43a8-8af1-aa6f19362c6c",
   "metadata": {},
   "outputs": [],
   "source": [
    "baseline = fullA[0].float().mean()\n",
    "projected = fullA[1:].float().mean()\n",
    "projected-baseline"
   ]
  },
  {
   "cell_type": "code",
   "execution_count": null,
   "id": "5b5bd400-355c-40d0-b616-5d9303164880",
   "metadata": {},
   "outputs": [],
   "source": [
    "fullA.shape"
   ]
  },
  {
   "cell_type": "code",
   "execution_count": null,
   "id": "abfdbbb5-a135-4438-b6a4-70da17abcac3",
   "metadata": {},
   "outputs": [],
   "source": [
    "baseline = fullA[0].float().mean(-1).mean(-1)\n",
    "best_acc = fullA[1:].float().mean(-1).mean(-1).max(dim = 0)\n",
    "best_boost = best_acc[0] - baseline"
   ]
  },
  {
   "cell_type": "code",
   "execution_count": null,
   "id": "9a9c6e9f-e1b5-44a3-aef8-e431e5a18538",
   "metadata": {},
   "outputs": [],
   "source": [
    "plt.hist(best_boost.detach().numpy(),bins=20)\n",
    "plt.xlabel('best boost')\n",
    "plt.ylabel('frequency')\n",
    "plt.title('64 random vectors 500 runs')"
   ]
  },
  {
   "cell_type": "code",
   "execution_count": null,
   "id": "5471eb2a-5521-405a-b76d-7dcafa3b91db",
   "metadata": {},
   "outputs": [],
   "source": [
    "plt.plot(torch.norm(base_mean, dim= 1),'.')\n",
    "plt.hlines(y=torch.norm(base_mean, dim= 1).mean(),xmin=0,xmax=64)"
   ]
  },
  {
   "cell_type": "code",
   "execution_count": null,
   "id": "4e3e74b7-737a-4b67-9327-5bacffb1ef5b",
   "metadata": {},
   "outputs": [],
   "source": [
    "plt.imshow(cosine_distances(base_mean,base_mean))\n",
    "plt.colorbar()"
   ]
  },
  {
   "cell_type": "code",
   "execution_count": null,
   "id": "20028ed7-02fe-419b-b964-bac9fe1be476",
   "metadata": {},
   "outputs": [],
   "source": [
    "plt.imshow(cosine_distances(base_mean,base_random))\n",
    "plt.colorbar()"
   ]
  },
  {
   "cell_type": "code",
   "execution_count": null,
   "id": "36198b3d-c1bb-4937-8d05-d615beaa28d0",
   "metadata": {},
   "outputs": [],
   "source": [
    "plt.imshow(cosine_distances(base_random,base_random))\n",
    "plt.colorbar()"
   ]
  },
  {
   "cell_type": "markdown",
   "id": "09f89590-70b4-48af-a84c-b6c5aa0bc1b1",
   "metadata": {},
   "source": [
    "# Analysis shot by shot"
   ]
  },
  {
   "cell_type": "code",
   "execution_count": null,
   "id": "e163cb8f-4577-4f8c-b8bd-f851aaa63592",
   "metadata": {},
   "outputs": [],
   "source": [
    "%matplotlib inline\n",
    "run = 0\n",
    "mk_size=4\n",
    "plt.figure()\n",
    "plt.plot(fullA[:,run].float().mean(-1).mean(-1),'.')\n",
    "plt.hlines(y=fullA[0,run].float().mean(),xmin = 0 ,xmax =64\n",
    "           ,label='baseline no proj')\n",
    "plt.xlabel('projection (0 is no projection)')\n",
    "plt.ylabel('accuracy')\n",
    "\n"
   ]
  },
  {
   "cell_type": "code",
   "execution_count": null,
   "id": "f42acb0b-4b11-4923-b79e-bce322c0acfd",
   "metadata": {},
   "outputs": [],
   "source": [
    "run_indices.shape"
   ]
  },
  {
   "cell_type": "code",
   "execution_count": null,
   "id": "7e84a621-ed4e-4a1b-8d23-916166460601",
   "metadata": {},
   "outputs": [],
   "source": [
    "run_classes.shape"
   ]
  },
  {
   "cell_type": "code",
   "execution_count": null,
   "id": "55f4a272-9a15-4944-8801-2ec3b9b443da",
   "metadata": {},
   "outputs": [],
   "source": [
    "\n"
   ]
  },
  {
   "cell_type": "code",
   "execution_count": null,
   "id": "7852047b-8baf-4849-be31-ea972ea490c7",
   "metadata": {},
   "outputs": [],
   "source": [
    "run = 0\n",
    "featb1 = generate_runs(feat, run_classes, run_indices, 0)\n",
    "feature = featb1[run,:5,:5].reshape(-1,640)\n",
    "plt.figure()\n",
    "plt.imshow(cosine_distances(feature, base_random))\n",
    "plt.colorbar()\n",
    "plt.figure()\n",
    "\n",
    "plt.figure()\n",
    "plt.plot(fullA[:,run].float().mean(-1).mean(-1),'.')\n",
    "plt.hlines(y=fullA[0,run].float().mean(),xmin = 0 ,xmax =64\n",
    "           ,label='baseline no proj')\n",
    "plt.xlabel('projection (0 is no projection)')\n",
    "plt.ylabel('accuracy')"
   ]
  },
  {
   "cell_type": "code",
   "execution_count": null,
   "id": "7e52dc61-95cd-46e9-99df-70796449b6e7",
   "metadata": {},
   "outputs": [],
   "source": [
    "run = 4\n",
    "featb1 = generate_runs(feat, run_classes, run_indices, 0)\n",
    "feature = featb1[run,:5,:5].reshape(-1,640)\n",
    "\n",
    "cs = cosine_distances(feature, base_random).sum(0)\n",
    "plt.figure()\n",
    "\n",
    "plt.plot(cs,fullA[:,run].float().mean(-1).mean(-1),'.')\n",
    "\n",
    "plt.xlabel('mean cosine distance between feature and vector')\n",
    "plt.ylabel('accuracy')\n"
   ]
  }
 ],
 "metadata": {
  "kernelspec": {
   "display_name": "Python 3 (ipykernel)",
   "language": "python",
   "name": "python3"
  },
  "language_info": {
   "codemirror_mode": {
    "name": "ipython",
    "version": 3
   },
   "file_extension": ".py",
   "mimetype": "text/x-python",
   "name": "python",
   "nbconvert_exporter": "python",
   "pygments_lexer": "ipython3",
   "version": "3.8.10"
  }
 },
 "nbformat": 4,
 "nbformat_minor": 5
}
