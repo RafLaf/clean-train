{
 "cells": [
  {
   "cell_type": "code",
   "execution_count": null,
   "id": "7557289b-16bc-4c58-b243-9fbb46582b66",
   "metadata": {},
   "outputs": [],
   "source": [
    "import torch\n",
    "import numpy as np\n",
    "import matplotlib.pyplot as plt\n",
    "import csv\n",
    "from PIL import Image\n",
    "import matplotlib as mpl\n",
    "from tqdm import tqdm\n",
    "from sklearn.manifold import TSNE\n",
    "import umap \n",
    "from sklearn.metrics.pairwise import cosine_distances"
   ]
  },
  {
   "cell_type": "markdown",
   "id": "74231fe0-c932-4ce6-9237-900af7d58b47",
   "metadata": {},
   "source": [
    "# Visualizing the Disregarding classes\n",
    "\n",
    "### Load data"
   ]
  },
  {
   "cell_type": "code",
   "execution_count": null,
   "id": "8130631c-eb79-4cf5-8985-1cf44c1ff11a",
   "metadata": {},
   "outputs": [],
   "source": [
    "def access_data(letter,shot):\n",
    "    feat = torch.load('features'+letter+str(shot),map_location=torch.device('cpu'))\n",
    "    classifier= torch.load('classifier'+letter,map_location=torch.device('cpu'))\n",
    "    accuracy = torch.load('complete_class_accuracy'+letter+str(shot)+'shots',map_location=torch.device('cpu'))\n",
    "    idx = torch.load('complete_class_accuracy'+letter+'idx'+str(shot)+'shots',map_location=torch.device('cpu'))\n",
    "    return feat,classifier,accuracy,idx"
   ]
  },
  {
   "cell_type": "code",
   "execution_count": null,
   "id": "d2879d29-2f71-4ad6-b2a6-9bbb01f2ccbd",
   "metadata": {},
   "outputs": [],
   "source": [
    "shot=5\n",
    "letter='A'\n",
    "feat,classifier,acc,idx = access_data(letter,shot)\n",
    "print(acc.shape)\n",
    "print(feat.shape)\n",
    "print(classifier.shape)\n",
    "print(idx.shape)"
   ]
  },
  {
   "cell_type": "code",
   "execution_count": null,
   "id": "26dc131f-5d97-47c4-8653-02e6d1dbc00a",
   "metadata": {},
   "outputs": [],
   "source": [
    "shot=5\n",
    "letter='B'\n",
    "featB,classifierB,accB,idxB = access_data(letter,shot)\n",
    "print(accB.shape)\n",
    "print(featB.shape)\n",
    "print(classifierB.shape)\n",
    "print(idxB.shape)"
   ]
  },
  {
   "cell_type": "code",
   "execution_count": null,
   "id": "8eadeed5-d191-48eb-98cd-13b158d27d05",
   "metadata": {},
   "outputs": [],
   "source": [
    "base_mean = feat[:64].mean(-2)\n",
    "base_meanB = featB[:64].mean(-2)\n",
    "print(base_mean.shape)"
   ]
  },
  {
   "cell_type": "code",
   "execution_count": null,
   "id": "2ef6e1ab-3ad3-4620-af93-d2a487d51908",
   "metadata": {},
   "outputs": [],
   "source": [
    "def proj_class(i,test_features,letter='A'):\n",
    "    if letter=='A':\n",
    "        #one projection per 64 clesses on miniimagenet\n",
    "        w=base_mean[i]    #select weights of the i-th class\n",
    "    else:\n",
    "        w=base_meanB[i] \n",
    "    proj = torch.matmul(test_features,w)/ torch.norm(w)**2    #get coef of projection and normalize\n",
    "    try:\n",
    "        projection_ortho = proj.unsqueeze(-1).repeat(1,640)\n",
    "    except:\n",
    "        projection_ortho = proj.unsqueeze(-1).repeat(1,1,640)\n",
    "    projection_ortho = projection_ortho * w                   #vector of projection along w \n",
    "    projection_ortho = test_features - projection_ortho       #projection on the orthogonal space of w\n",
    "    return projection_ortho"
   ]
  },
  {
   "cell_type": "code",
   "execution_count": null,
   "id": "9294b737-f2ba-4c58-b970-b37351d5908e",
   "metadata": {},
   "outputs": [],
   "source": [
    "feat_20 = proj_class(50,feat.mean(1),letter='A')\n",
    "plt.imshow(torch.cdist(feat_20,feat.mean(1))-torch.cdist(feat.mean(1),feat.mean(1)))\n",
    "plt.colorbar()"
   ]
  },
  {
   "cell_type": "code",
   "execution_count": null,
   "id": "49fe6d25-c3b8-4537-8262-8f2e053e0412",
   "metadata": {},
   "outputs": [],
   "source": [
    "feat_20 = proj_class(50,feat,letter='A')\n",
    "plt.imshow(torch.cdist(feat_20.mean(1),feat.mean(1))-torch.cdist(feat.mean(1),feat.mean(1)))\n",
    "plt.colorbar()"
   ]
  },
  {
   "cell_type": "code",
   "execution_count": null,
   "id": "df179407-29cb-4d42-8316-3ef83e1c3d9b",
   "metadata": {},
   "outputs": [],
   "source": [
    "filenametrain = '/home/r21lafar/Documents/dataset/miniimagenetimages/train.csv'\n",
    "filenametest = '/home/r21lafar/Documents/dataset/miniimagenetimages/test.csv'\n",
    "directory = '/home/r21lafar/Documents/dataset/miniimagenetimages/images/'\n",
    "def opencsv(filename):\n",
    "    file = open(filename)\n",
    "    csvreader = csv.reader(file)\n",
    "    header = []\n",
    "    header = next(csvreader)\n",
    "    print(header)\n",
    "    rowstrain = []\n",
    "    rows = []\n",
    "    for row in csvreader:\n",
    "        rows.append(row)\n",
    "    return rows\n",
    "test = opencsv(filenametest)\n",
    "train = opencsv(filenametrain)\n",
    "def openimg(cl,title):\n",
    "    if cl<64:\n",
    "        src=train\n",
    "    if cl>=80:\n",
    "        src=test\n",
    "        cl-=80\n",
    "    if type(cl)==int:\n",
    "        plt.figure(figsize=(5,5))\n",
    "        idx=int((cl+0.5)*600)+np.random.randint(-100,100)\n",
    "        filename=src[idx][0]\n",
    "        im = Image.open(directory +filename)\n",
    "        plt.title(title)\n",
    "        plt.imshow(np.array(im))"
   ]
  },
  {
   "cell_type": "code",
   "execution_count": null,
   "id": "82eaaa15-d4d6-4b26-aab6-3ac97bcd1b41",
   "metadata": {},
   "outputs": [],
   "source": [
    "def distance_from_base(proj,run,plot=False,letter='A'):\n",
    "    if letter=='A':\n",
    "        fs_run = feat[acc[0,0,run].long()]\n",
    "    else:\n",
    "        fs_run = featB[acc[0,0,run].long()]\n",
    "    if proj==-1 and run ==-1:\n",
    "        if letter=='A':\n",
    "            proto_fs = feat[-20:].mean(1)\n",
    "        else:\n",
    "            proto_fs = featB[-20:].mean(1)\n",
    "    else:\n",
    "        fs_run = torch.gather(fs_run,dim=1,index=idx[0,run].unsqueeze(-1).repeat(1,1,640).long()) \n",
    "        proto_fs = fs_run[:,:shot].mean(1)\n",
    "    if proj!=0:\n",
    "        proto_fs=proj_class(proj-1,proto_fs,letter=letter)\n",
    "    if letter=='A': \n",
    "        D = torch.cdist(proto_fs,base_mean)\n",
    "    else:\n",
    "        D = torch.cdist(proto_fs,base_meanB)\n",
    "    if plot:\n",
    "        plt.figure()\n",
    "        plt.imshow(D.detach().numpy(),aspect='auto')\n",
    "        plt.colorbar()\n",
    "        plt.title('distance between FS class mean and base class '+letter+' mean \\n (whole base dataset) projection ' +str(proj) + ' (0 is no projection)')\n",
    "        plt.xlabel('64 base class mean')\n",
    "        plt.ylabel('FS prototype of class')\n",
    "    return D"
   ]
  },
  {
   "cell_type": "code",
   "execution_count": null,
   "id": "7df074bf-1343-4459-8270-902108043577",
   "metadata": {},
   "outputs": [],
   "source": [
    "%matplotlib inline\n",
    "da,db = distance_from_base(-1,-1,letter='A',plot=True),distance_from_base(-1,-1,letter='B',plot=True)\n",
    "plt.figure()\n",
    "plt.title('difference between backbone A and B on novel dataset means \\n projection on base dataset means')\n",
    "plt.imshow(da-db,aspect='auto')\n",
    "plt.colorbar()"
   ]
  },
  {
   "cell_type": "markdown",
   "id": "08379934-8471-4c6a-bd60-68694fe62dac",
   "metadata": {},
   "source": [
    "### Visualization of datasets with U-map"
   ]
  },
  {
   "cell_type": "code",
   "execution_count": null,
   "id": "ae8d39e8-394c-48f7-845f-629493605f91",
   "metadata": {},
   "outputs": [],
   "source": [
    "a=umap.UMAP().fit_transform(feat.mean(1))\n",
    "b=umap.UMAP().fit_transform(featB.mean(1))"
   ]
  },
  {
   "cell_type": "code",
   "execution_count": null,
   "id": "b04b0eb7-a041-43e0-9af1-6752a3ad8c8c",
   "metadata": {},
   "outputs": [],
   "source": [
    "plt.plot(a[:64,0],a[:64,1],'.',label='base')\n",
    "plt.plot(a[-20:,0],a[-20:,1],'.',label='novel')\n",
    "plt.legend()\n",
    "example = list(range(64)) + list(range(80,100))\n",
    "label = [str(i) for i in example]\n",
    "for i in range(len(label)):\n",
    "    plt.annotate(label[i], (a[example[i],0], a[example[i],1]))"
   ]
  },
  {
   "cell_type": "code",
   "execution_count": null,
   "id": "df2f9373-bf71-4faf-afa0-cfbd20178b92",
   "metadata": {},
   "outputs": [],
   "source": [
    "plt.plot(a[:64,0],a[:64,1],'.',label='base')\n",
    "plt.plot(a[-20:,0],a[-20:,1],'.',label='novel')\n",
    "plt.legend()\n",
    "example = [57,96,37,92,47,87,88,16]\n",
    "label = [str(i) for i in example]\n",
    "label2 = ['roadsign','scoreboard','clarinette','electric guitar','spider net', 'ant', 'furet', 'small dog' ]\n",
    "for i in range(len(label)):\n",
    "    plt.annotate(label2[i], (a[example[i],0], a[example[i],1]))"
   ]
  },
  {
   "cell_type": "code",
   "execution_count": null,
   "id": "713a3ec3-08f8-49ae-8983-3b09cc383f2f",
   "metadata": {},
   "outputs": [],
   "source": [
    "plt.plot(b[:64,0],b[:64,1],'.',label='base')\n",
    "plt.plot(b[-20:,0],b[-20:,1],'.',label='novel')\n",
    "plt.legend()\n",
    "example = [57,96,37,92,47,87,88,16]\n",
    "label = [str(i) for i in example]\n",
    "label2 = ['roadsign','scoreboard','clarinette','electric guitar','spider net', 'ant', 'furet', 'small dog' ]\n",
    "for i in range(len(label)):\n",
    "    plt.annotate(label2[i], (b[example[i],0], b[example[i],1]))"
   ]
  },
  {
   "cell_type": "code",
   "execution_count": null,
   "id": "dc29dc9c-e723-453a-9b6f-f0786cf0d894",
   "metadata": {},
   "outputs": [],
   "source": [
    "openimg(16,'')"
   ]
  },
  {
   "cell_type": "markdown",
   "id": "0f27c879-ff33-4ed9-bc74-4bae72ff8a78",
   "metadata": {},
   "source": [
    "## Create FS scenarii or runs \n",
    "### 2 ways"
   ]
  },
  {
   "cell_type": "code",
   "execution_count": null,
   "id": "b00eb01e-9dc6-45e7-b3d8-1a03adbc7e4b",
   "metadata": {},
   "outputs": [],
   "source": [
    "n_runs, batch_few_shot_runs = 500,10\n",
    "n_ways=5\n",
    "def ncm(train_features, features, run_classes, run_indices, n_shots,i_proj):\n",
    "    with torch.no_grad():\n",
    "        dim = features.shape[2]\n",
    "        targets = torch.arange(n_ways).unsqueeze(1).unsqueeze(0)\n",
    "        #features = preprocess(train_features, features)\n",
    "        scores = []\n",
    "        score=0\n",
    "        for batch_idx in range(n_runs // batch_few_shot_runs):\n",
    "            runs = generate_runs(features, run_classes, run_indices, batch_idx)\n",
    "            means = torch.mean(runs[:,:,:n_shots], dim = 2)\n",
    "            distances = torch.norm(runs[:,:,n_shots:].reshape(batch_few_shot_runs, n_ways, 1, -1, dim) - means.reshape(batch_few_shot_runs, 1, n_ways, 1, dim), dim = 4, p = 2)\n",
    "            winners = torch.min(distances, dim = 2)[1]\n",
    "            accuracy = (winners == targets)\n",
    "            if batch_idx==0:\n",
    "                full_accuracy=accuracy\n",
    "                full_mean=means\n",
    "            else:\n",
    "                full_accuracy=torch.cat((full_accuracy,accuracy),dim=0)\n",
    "                full_mean=torch.cat((full_mean,means),dim=0)\n",
    "        return full_accuracy,full_mean\n",
    "\n",
    "    \n",
    "def generate_runs(data, run_classes, run_indices, batch_idx):\n",
    "    n_runs, n_ways, n_samples = run_classes.shape[0], run_classes.shape[1], run_indices.shape[2]\n",
    "    run_classes = run_classes[batch_idx * batch_few_shot_runs : (batch_idx + 1) * batch_few_shot_runs]\n",
    "    run_indices = run_indices[batch_idx * batch_few_shot_runs : (batch_idx + 1) * batch_few_shot_runs]\n",
    "    run_classes = run_classes.unsqueeze(2).unsqueeze(3).repeat(1,1,data.shape[1], data.shape[2])\n",
    "    run_indices = run_indices.unsqueeze(3).repeat(1, 1, 1, data.shape[2])\n",
    "    datas = data.unsqueeze(0).repeat(batch_few_shot_runs, 1, 1, 1)\n",
    "    cclasses = torch.gather(datas, 1, run_classes.to(torch.int64))\n",
    "    res = torch.gather(cclasses, 2, run_indices)\n",
    "    return res\n",
    "\n",
    "def define_runs(n_ways, n_shots, n_queries, num_classes, elements_per_class):\n",
    "    shuffle_classes = torch.LongTensor(np.arange(num_classes))\n",
    "    run_classes = torch.LongTensor(n_runs, n_ways)\n",
    "    run_indices = torch.LongTensor(n_runs, n_ways, n_shots + n_queries)\n",
    "    for i in range(n_runs):\n",
    "        run_classes[i] = torch.randperm(num_classes)[:n_ways]\n",
    "        for j in range(n_ways):\n",
    "            run_indices[i,j] = torch.randperm(elements_per_class[run_classes[i, j]])[:n_shots + n_queries]\n",
    "    return run_classes, run_indices"
   ]
  },
  {
   "cell_type": "code",
   "execution_count": null,
   "id": "24f25ff2-f261-4323-a84c-198592f82bc4",
   "metadata": {},
   "outputs": [],
   "source": [
    "run_classes, run_indices = define_runs(n_ways, 5, 500,20, [600 for i in range(20)])\n"
   ]
  },
  {
   "cell_type": "code",
   "execution_count": null,
   "id": "1f5aa95b-cdfa-46c9-a8e6-f288c955a38d",
   "metadata": {},
   "outputs": [],
   "source": [
    "\n",
    "A,_ = ncm(feat[:64], feat[-20:], run_classes, run_indices, 5,0)\n",
    "B,_ = ncm(featB[:64], featB[-20:],run_classes, run_indices, 5,0)\n",
    "plt.plot(A.float().mean(-1).mean(-1),label='backbone A')\n",
    "plt.plot(B.float().mean(-1).mean(-1),label='backbone B')\n",
    "plt.legend()\n",
    "plt.xlabel('run')\n",
    "plt.ylabel('accuracy')\n",
    "plt.title('no projection')"
   ]
  },
  {
   "cell_type": "code",
   "execution_count": null,
   "id": "2392355e-ec23-4218-b4df-8989e75573f0",
   "metadata": {},
   "outputs": [],
   "source": [
    "for i in tqdm(range(65)):\n",
    "    if i!=0:\n",
    "        feature=proj_class(i-1,feat,'A')\n",
    "        featureB=proj_class(i-1,featB,'B')\n",
    "    else:\n",
    "        feature =feat\n",
    "        featureB =featB\n",
    "    A,meanA = ncm(feature[:64], feature[-20:], run_classes, run_indices, 5,0)\n",
    "    B,meanB = ncm(featureB[:64], featureB[-20:],run_classes, run_indices, 5,0)\n",
    "    if i==0:\n",
    "        fullA = A.unsqueeze(0)\n",
    "        fullB = B.unsqueeze(0)\n",
    "        fullmeanA = meanA.unsqueeze(0)\n",
    "        fullmeanB = meanB.unsqueeze(0)\n",
    "    else:\n",
    "        fullA = torch.cat((fullA, A.unsqueeze(0)) ,dim = 0)\n",
    "        fullB = torch.cat((fullB, B.unsqueeze(0)) ,dim = 0)\n",
    "        fullmeanA = torch.cat((fullmeanA, meanA.unsqueeze(0)) ,dim = 0)\n",
    "        fullmeanB = torch.cat((fullmeanB, meanB.unsqueeze(0)) ,dim = 0)"
   ]
  },
  {
   "cell_type": "code",
   "execution_count": null,
   "id": "7aa8ee4c-1eaf-455a-a89a-76a1e309a635",
   "metadata": {},
   "outputs": [],
   "source": [
    "def what_proj(run):\n",
    "    return fullA[:,run].float().mean(-1).mean(-1).argsort()-1"
   ]
  },
  {
   "cell_type": "code",
   "execution_count": null,
   "id": "594246d0-1b18-428a-a961-e95a67fef2bf",
   "metadata": {},
   "outputs": [],
   "source": [
    "baseline = fullA[0].float().mean(-1).mean(-1)\n",
    "best_acc = fullA[1:].float().mean(-1).mean(-1).max(dim = 0)\n",
    "best_boost = best_acc[0] - baseline"
   ]
  },
  {
   "cell_type": "code",
   "execution_count": null,
   "id": "3e7895ea-0ac5-4528-a54e-e97ab9ad4e06",
   "metadata": {},
   "outputs": [],
   "source": [
    "plt.hist(best_boost.detach().numpy(),bins=20)\n",
    "plt.xlabel('best boost')\n",
    "plt.ylabel('frequency')\n",
    "plt.title('64 base vectors 500 runs')"
   ]
  },
  {
   "cell_type": "code",
   "execution_count": null,
   "id": "b681614c-0e00-4655-9e22-da5aaa8fa54b",
   "metadata": {},
   "outputs": [],
   "source": [
    "run = 5\n",
    "featb1 = generate_runs(feat, run_classes, run_indices, 0)\n",
    "feature = featb1[run,:5,:5].reshape(-1,640)\n",
    "plt.figure()\n",
    "plt.imshow(cosine_distances(feature, base_mean))\n",
    "plt.colorbar()\n",
    "plt.figure()\n",
    "\n",
    "plt.figure()\n",
    "plt.plot(fullA[:,run].float().mean(-1).mean(-1),'.')\n",
    "plt.hlines(y=fullA[0,run].float().mean(),xmin = 0 ,xmax =64\n",
    "           ,label='baseline no proj')\n",
    "plt.xlabel('projection (0 is no projection)')\n",
    "plt.ylabel('accuracy')"
   ]
  },
  {
   "cell_type": "code",
   "execution_count": null,
   "id": "31d74895-3cd2-4d3c-98c2-261c220c3bbd",
   "metadata": {},
   "outputs": [],
   "source": [
    "run=11\n",
    "acc_run = fullA[1:,run].float().mean(-1).mean(-1)\n",
    "var_cs = cosine_distances(feature, base_mean).var(0)\n",
    "plt.plot(var_cs,acc_run,'.')\n",
    "plt.hlines(y=fullA[0,run].float().mean(),xmin = var_cs.min() ,xmax =var_cs.max()\n",
    "           ,label='baseline no proj')\n",
    "plt.legend()"
   ]
  },
  {
   "cell_type": "code",
   "execution_count": null,
   "id": "2148c816-609d-43f8-bd2d-15569506dd57",
   "metadata": {},
   "outputs": [],
   "source": [
    "%matplotlib qt5\n",
    "run = 12\n",
    "nb_sample=30\n",
    "mk_size=4\n",
    "plt.figure()\n",
    "plt.plot(fullA[:,run].float().mean(-1).mean(-1))\n",
    "\n",
    "FULLumap = torch.cat((base_mean,fullmeanA[0,run],feat[80+run_classes[run],:nb_sample].reshape(n_ways*nb_sample,640) ))\n",
    "umapA=umap.UMAP().fit_transform(FULLumap)\n",
    "plt.figure()\n",
    "plt.plot(umapA[:64,0],umapA[:64,1],'o',label='base', c='b')\n",
    "plt.plot(umapA[64,0],umapA[64,1],'*',label='proto 0', c='purple',markersize=20)\n",
    "plt.plot(umapA[65,0],umapA[65,1],'*',label='proto 1', c='k',markersize=20)\n",
    "\n",
    "plt.plot(umapA[69:69+nb_sample,0],umapA[64+5:69+nb_sample,1],'.',label='samples 0',markersize=mk_size, c='purple')\n",
    "plt.plot(umapA[64+5+nb_sample:69+nb_sample*2,0],umapA[64+5+nb_sample:69+nb_sample*2,1],'.',label='samples 1',markersize=mk_size, c='k')\n",
    "\n",
    "plt.legend()\n",
    "\n",
    "boost = fullA[:,run].float().mean(-1).mean(-1)-fullA[0,run].float().mean(-1).mean(-1)\n",
    "example = what_proj(run)\n",
    "signboost = boost>=0.\n",
    "label = [str(i) for i in range(65)]\n",
    "couleur = ['red','green']\n",
    "for i in range(len(label)):\n",
    "    plt.annotate(label[i], (umapA[example[i],0], umapA[example[i],1]), color = couleur[signboost[example[i]]*1])"
   ]
  },
  {
   "cell_type": "code",
   "execution_count": null,
   "id": "1b356cff-5c40-4046-b497-4d3d6e846882",
   "metadata": {},
   "outputs": [],
   "source": [
    "%matplotlib inline\n",
    "run = 0\n",
    "plt.plot(fullA[:,run].float().mean(-1).mean(-1),label='backbone A')\n",
    "plt.plot(fullB[:,run].float().mean(-1).mean(-1),label='backbone B')\n",
    "plt.legend()\n",
    "plt.xlabel('projection')\n",
    "plt.ylabel('accuracy')\n",
    "print(fullA[:,run].shape)"
   ]
  },
  {
   "cell_type": "code",
   "execution_count": null,
   "id": "05b1c8c3-80b2-4373-80d1-82c4115601f8",
   "metadata": {},
   "outputs": [],
   "source": [
    "best, worst = fullA[:,run].float().mean(-1).mean(-1).argmax().item()-1 ,fullA[:,run].float().mean(-1).mean(-1).argmin().item()-1\n",
    "print('best',best)\n",
    "print('worst',worst)\n",
    "listsort = fullA[:,run].float().mean(-1).mean(-1).argsort()-1\n",
    "print(listsort)"
   ]
  },
  {
   "cell_type": "code",
   "execution_count": null,
   "id": "d9cc6d5b-902b-48c5-b23b-8b4e8f42c165",
   "metadata": {},
   "outputs": [],
   "source": [
    "FULLumap = torch.cat((base_mean,fullmeanA[0,run]))\n",
    "umapA=umap.UMAP().fit_transform(FULLumap)\n",
    "plt.plot(umapA[:-5,0],umapA[:-5,1],'.',label='base')\n",
    "plt.plot(umapA[-5:,0],umapA[-5:,1],'.',label='no proj')\n",
    "plt.legend()\n",
    "example = [best,worst]\n",
    "label = ['best', 'worst']\n",
    "for i in range(len(label)):\n",
    "    plt.annotate(label[i], (umapA[example[i],0], umapA[example[i],1]))"
   ]
  },
  {
   "cell_type": "code",
   "execution_count": null,
   "id": "3509a9bb-f45d-4d7d-ba87-e1642d4daddd",
   "metadata": {},
   "outputs": [],
   "source": [
    "FULLumap = torch.cat((proj_class(best,base_mean,'A'),fullmeanA[best+1,run]))\n",
    "umapA=umap.UMAP().fit_transform(FULLumap)\n",
    "plt.plot(umapA[:-5,0],umapA[:-5,1],'.',label='base')\n",
    "plt.plot(umapA[-5:,0],umapA[-5:,1],'.',label='best proj')\n",
    "plt.legend()\n",
    "example = [best,worst]\n",
    "label = ['best', 'worst']\n",
    "for i in range(len(label)):\n",
    "    plt.annotate(label[i], (umapA[example[i],0], umapA[example[i],1]))"
   ]
  },
  {
   "cell_type": "code",
   "execution_count": null,
   "id": "50b0a73f-4f2f-4e55-b0ee-99921164be25",
   "metadata": {},
   "outputs": [],
   "source": [
    "FULLumap = torch.cat((proj_class(worst,base_mean,'A'),fullmeanA[worst+1,run]))\n",
    "umapA=umap.UMAP().fit_transform(FULLumap)\n",
    "plt.plot(umapA[:-5,0],umapA[:-5,1],'.',label='base')\n",
    "plt.plot(umapA[-5:,0],umapA[-5:,1],'.',label='worst proj')\n",
    "plt.legend()\n",
    "example = [best,worst]\n",
    "label = ['best', 'worst']\n",
    "for i in range(len(label)):\n",
    "    plt.annotate(label[i], (umapA[example[i],0], umapA[example[i],1]))"
   ]
  },
  {
   "cell_type": "code",
   "execution_count": null,
   "id": "4d869c6e-fb15-4e59-8704-d751fcb04471",
   "metadata": {},
   "outputs": [],
   "source": [
    "feat[run_classes[run],:30].shape"
   ]
  },
  {
   "cell_type": "code",
   "execution_count": null,
   "id": "83aba16d-4584-43a1-a055-d8bb5a71df60",
   "metadata": {},
   "outputs": [],
   "source": [
    "%matplotlib qt5\n",
    "nb_sample=30\n",
    "mk_size=3\n",
    "FULLumap = torch.cat((base_mean,fullmeanA[0,run],feat[80+run_classes[run],:nb_sample].reshape(n_ways*nb_sample,640) ))\n",
    "umapA=umap.UMAP().fit_transform(FULLumap)\n",
    "plt.plot(umapA[:64,0],umapA[:64,1],'.',label='base', c='b')\n",
    "plt.plot(umapA[64,0],umapA[64,1],'.',label='proto 0', c='orange')\n",
    "plt.plot(umapA[65,0],umapA[65,1],'.',label='proto 1', c='g')\n",
    "plt.plot(umapA[66,0],umapA[66,1],'.',label='proto 2', c='y')\n",
    "plt.plot(umapA[67,0],umapA[67,1],'.',label='proto 3', c='k')\n",
    "plt.plot(umapA[68,0],umapA[68,1],'.',label='proto 4', c='purple')\n",
    "plt.plot(umapA[69:69+nb_sample,0],umapA[64+5:69+nb_sample,1],'.',label='samples 0',markersize=mk_size, c='orange')\n",
    "plt.plot(umapA[64+5+nb_sample:69+nb_sample*2,0],umapA[64+5+nb_sample:69+nb_sample*2,1],'.',label='samples 1',markersize=mk_size, c='g')\n",
    "plt.plot(umapA[64+5+nb_sample*2:69+nb_sample*3,0],umapA[64+5+nb_sample*2:69+nb_sample*3,1],'.',label='samples 2',markersize=mk_size, c='y')\n",
    "plt.plot(umapA[64+5+nb_sample*3:69+nb_sample*4,0],umapA[64+5+nb_sample*3:69+nb_sample*4,1],'.',label='samples 3',markersize=mk_size, c='k')\n",
    "plt.plot(umapA[64+5+nb_sample*4:69+nb_sample*5,0],umapA[64+5+nb_sample*4:69+nb_sample*5,1],'.',label='samples 4',markersize=mk_size, c='purple')\n",
    "plt.legend()\n",
    "example = listsort\n",
    "label = ['best', 'worst']\n",
    "label = [ str(i) for i in  range(listsort.shape[0])]\n",
    "plt.title('no projection')\n",
    "for i in range(len(label)):\n",
    "    plt.annotate(label[i], (umapA[example[i],0], umapA[example[i],1]))"
   ]
  },
  {
   "cell_type": "code",
   "execution_count": null,
   "id": "41ae6e92-f779-470c-bab2-4733c2d67eee",
   "metadata": {},
   "outputs": [],
   "source": [
    "def what_proj(boost,run):\n",
    "    return boost.argsort()"
   ]
  },
  {
   "cell_type": "code",
   "execution_count": null,
   "id": "bb2f84bc-2cce-417e-bd81-5d89b2ea111e",
   "metadata": {},
   "outputs": [],
   "source": [
    "%matplotlib inline\n",
    "run=12\n",
    "plt.figure()\n",
    "plt.plot(fullA[:,run].float().mean(-1).mean(-1))"
   ]
  },
  {
   "cell_type": "code",
   "execution_count": null,
   "id": "414213d2-0ac9-4d24-9f39-23b5b0814c06",
   "metadata": {},
   "outputs": [],
   "source": [
    "%matplotlib qt5\n",
    "run = 12\n",
    "nb_sample=30\n",
    "mk_size=4\n",
    "plt.figure()\n",
    "plt.plot(fullA[:,run].float().mean(-1).mean(-1))\n",
    "\n",
    "FULLumap = torch.cat((base_mean,fullmeanA[0,run],feat[80+run_classes[run],:nb_sample].reshape(n_ways*nb_sample,640) ))\n",
    "umapA=umap.UMAP().fit_transform(FULLumap)\n",
    "plt.figure()\n",
    "plt.plot(umapA[:64,0],umapA[:64,1],'o',label='base', c='b')\n",
    "plt.plot(umapA[64,0],umapA[64,1],'*',label='proto 0', c='purple',markersize=20)\n",
    "plt.plot(umapA[65,0],umapA[65,1],'*',label='proto 1', c='k',markersize=20)\n",
    "\n",
    "plt.plot(umapA[69:69+nb_sample,0],umapA[64+5:69+nb_sample,1],'.',label='samples 0',markersize=mk_size, c='purple')\n",
    "plt.plot(umapA[64+5+nb_sample:69+nb_sample*2,0],umapA[64+5+nb_sample:69+nb_sample*2,1],'.',label='samples 1',markersize=mk_size, c='k')\n",
    "\n",
    "plt.legend()\n",
    "\n",
    "boost = fullA[:,run].float().mean(-1).mean(-1)-fullA[0,run].float().mean(-1).mean(-1)\n",
    "example = what_proj(boost,run)\n",
    "signboost = boost>=0.\n",
    "label = [str(i) for i in range(65)]\n",
    "couleur = ['red','green']\n",
    "for i in range(len(label)):\n",
    "    plt.annotate(label[i], (umapA[example[i],0], umapA[example[i],1]), color = couleur[signboost[example[i]]*1])\n"
   ]
  },
  {
   "cell_type": "code",
   "execution_count": null,
   "id": "a7b41694-a4ba-47d8-8aa0-2e481be95a50",
   "metadata": {},
   "outputs": [],
   "source": [
    "%matplotlib qt5\n",
    "run = 6\n",
    "nb_sample=30\n",
    "mk_size=4\n",
    "plt.figure()\n",
    "plt.plot(fullA[:,run].float().mean(-1).mean(-1))\n",
    "\n",
    "FULLumap = torch.cat((base_mean,fullmeanA[0,run],feat[80+run_classes[run],:nb_sample].reshape(n_ways*nb_sample,640) ))\n",
    "umapA=umap.UMAP().fit_transform(FULLumap)\n",
    "plt.figure()\n",
    "plt.plot(umapA[:64,0],umapA[:64,1],'o',label='base', c='b')\n",
    "plt.plot(umapA[64,0],umapA[64,1],'*',label='proto 0', c='purple',markersize=20)\n",
    "plt.plot(umapA[65,0],umapA[65,1],'*',label='proto 1', c='k',markersize=20)\n",
    "\n",
    "plt.plot(umapA[69:69+nb_sample,0],umapA[64+5:69+nb_sample,1],'.',label='samples 0',markersize=mk_size, c='purple')\n",
    "plt.plot(umapA[64+5+nb_sample:69+nb_sample*2,0],umapA[64+5+nb_sample:69+nb_sample*2,1],'.',label='samples 1',markersize=mk_size, c='k')\n",
    "\n",
    "plt.legend()\n",
    "\n",
    "boost = fullA[:,run].float().mean(-1).mean(-1)-fullA[0,run].float().mean(-1).mean(-1)\n",
    "example = what_proj(boost,run)\n",
    "signboost = boost>=0.\n",
    "label = [str(i) for i in range(65)]\n",
    "couleur = ['red','green']\n",
    "for i in range(len(label)):\n",
    "    plt.annotate(str(np.round(100*boost[example[i]].detach().numpy(),3)), (umapA[example[i],0], umapA[example[i],1]), color = couleur[signboost[example[i]]*1])"
   ]
  },
  {
   "cell_type": "code",
   "execution_count": null,
   "id": "c84262a9-0893-4b67-947c-c504e36058e4",
   "metadata": {},
   "outputs": [],
   "source": [
    "print(signboost)"
   ]
  },
  {
   "cell_type": "code",
   "execution_count": null,
   "id": "ca3945a5-572f-454e-a6d0-c69f2d7331a0",
   "metadata": {},
   "outputs": [],
   "source": [
    "%matplotlib qt5\n",
    "nb_sample=30\n",
    "mk_size=3\n",
    "\n",
    "FULLumap = torch.cat((proj_class(best,base_mean,'A'),fullmeanA[best+1,run],proj_class(best,feat[80+run_classes[run],:nb_sample].reshape(5*nb_sample,640),'A') ))\n",
    "umapA=umap.UMAP().fit_transform(FULLumap)\n",
    "plt.plot(umapA[:64,0],umapA[:64,1],'.',label='base', c='b')\n",
    "plt.plot(umapA[64,0],umapA[64,1],'.',label='proto 0', c='orange')\n",
    "plt.plot(umapA[65,0],umapA[65,1],'.',label='proto 1', c='g')\n",
    "plt.plot(umapA[66,0],umapA[66,1],'.',label='proto 2', c='y')\n",
    "plt.plot(umapA[67,0],umapA[67,1],'.',label='proto 3', c='k')\n",
    "plt.plot(umapA[68,0],umapA[68,1],'.',label='proto 4', c='purple')\n",
    "plt.plot(umapA[69:69+nb_sample,0],umapA[64+5:69+nb_sample,1],'.',label='samples 0',markersize=mk_size, c='orange')\n",
    "plt.plot(umapA[64+5+nb_sample:69+nb_sample*2,0],umapA[64+5+nb_sample:69+nb_sample*2,1],'.',label='samples 1',markersize=mk_size, c='g')\n",
    "plt.plot(umapA[64+5+nb_sample*2:69+nb_sample*3,0],umapA[64+5+nb_sample*2:69+nb_sample*3,1],'.',label='samples 2',markersize=mk_size, c='y')\n",
    "plt.plot(umapA[64+5+nb_sample*3:69+nb_sample*4,0],umapA[64+5+nb_sample*3:69+nb_sample*4,1],'.',label='samples 3',markersize=mk_size, c='k')\n",
    "plt.plot(umapA[64+5+nb_sample*4:69+nb_sample*5,0],umapA[64+5+nb_sample*4:69+nb_sample*5,1],'.',label='samples 4',markersize=mk_size, c='purple')\n",
    "plt.legend()\n",
    "example = listsort\n",
    "label = ['best', 'worst']\n",
    "plt.title('best')\n",
    "boost = fullA[:,run].float().mean(-1).mean(-1)-fullA[0,run].float().mean(-1).mean(-1)\n",
    "signboost = boost>=0.\n",
    "couleur = ['red','green']\n",
    "for i in range(len(label)):\n",
    "    plt.annotate(label[i], (umapA[example[i],0], umapA[example[i],1]), color = couleur[signboost[i]*1])"
   ]
  },
  {
   "cell_type": "code",
   "execution_count": null,
   "id": "d79b31e6-bf3f-4ee7-a763-e08e00d7bcb2",
   "metadata": {},
   "outputs": [],
   "source": [
    "%matplotlib qt5\n",
    "nb_sample=30\n",
    "mk_size=3\n",
    "FULLumap = torch.cat((proj_class(worst,base_mean,'A'),fullmeanA[worst+1,run],proj_class(worst,feat[80+run_classes[run],:nb_sample].reshape(5*nb_sample,640),'A') ))\n",
    "umapA=umap.UMAP().fit_transform(FULLumap)\n",
    "plt.plot(umapA[:64,0],umapA[:64,1],'.',label='base', c='b')\n",
    "plt.plot(umapA[64,0],umapA[64,1],'.',label='proto 0', c='orange')\n",
    "plt.plot(umapA[65,0],umapA[65,1],'.',label='proto 1', c='g')\n",
    "plt.plot(umapA[66,0],umapA[66,1],'.',label='proto 2', c='y')\n",
    "plt.plot(umapA[67,0],umapA[67,1],'.',label='proto 3', c='k')\n",
    "plt.plot(umapA[68,0],umapA[68,1],'.',label='proto 4', c='purple')\n",
    "plt.plot(umapA[69:69+nb_sample,0],umapA[64+5:69+nb_sample,1],'.',label='samples 0',markersize=mk_size, c='orange')\n",
    "plt.plot(umapA[64+5+nb_sample:69+nb_sample*2,0],umapA[64+5+nb_sample:69+nb_sample*2,1],'.',label='samples 1',markersize=mk_size, c='g')\n",
    "plt.plot(umapA[64+5+nb_sample*2:69+nb_sample*3,0],umapA[64+5+nb_sample*2:69+nb_sample*3,1],'.',label='samples 2',markersize=mk_size, c='y')\n",
    "plt.plot(umapA[64+5+nb_sample*3:69+nb_sample*4,0],umapA[64+5+nb_sample*3:69+nb_sample*4,1],'.',label='samples 3',markersize=mk_size, c='k')\n",
    "plt.plot(umapA[64+5+nb_sample*4:69+nb_sample*5,0],umapA[64+5+nb_sample*4:69+nb_sample*5,1],'.',label='samples 4',markersize=mk_size, c='purple')\n",
    "plt.legend()\n",
    "plt.title('worst')\n",
    "example = listsort\n",
    "label = ['best', 'worst']\n",
    "label = [str(i) for i in range(listsort.shape[0])]\n",
    "\n",
    "\n",
    "for i in range(len(label)):\n",
    "    plt.annotate(label[i], (umapA[example[i],0], umapA[example[i],1]), )"
   ]
  },
  {
   "cell_type": "code",
   "execution_count": null,
   "id": "d3f19543-e493-4c77-86ae-b79697b7911f",
   "metadata": {},
   "outputs": [],
   "source": [
    "plt.plot(umapA[0,0],umapA[0,1],'.',label='no proj 0')\n",
    "plt.plot(umapA[1,0],umapA[1,1],'.',label='best proj 0')\n",
    "plt.plot(umapA[2,0],umapA[2,1],'.',label='worst proj 0')\n",
    "plt.plot(umapA[3,0],umapA[3,1],'.',label='no proj 1')\n",
    "plt.plot(umapA[4,0],umapA[4,1],'.',label='best proj 1')\n",
    "plt.plot(umapA[5,0],umapA[5,1],'.',label='worst proj 1')\n",
    "plt.plot(umapA[6,0],umapA[6,1],'.',label='no proj 2')\n",
    "plt.plot(umapA[7,0],umapA[7,1],'.',label='best proj 2')\n",
    "plt.plot(umapA[8,0],umapA[8,1],'.',label='worst proj 2')\n",
    "plt.plot(umapA[9,0],umapA[9,1],'.',label='no proj 3')\n",
    "plt.plot(umapA[10,0],umapA[10,1],'.',label='best proj 3')\n",
    "plt.plot(umapA[11,0],umapA[11,1],'.',label='worst proj 3')\n",
    "plt.plot(umapA[12,0],umapA[12,1],'.',label='no proj 4')\n",
    "plt.plot(umapA[13,0],umapA[13,1],'.',label='best proj 4')\n",
    "plt.plot(umapA[14,0],umapA[14,1],'.',label='worst proj 4')\n",
    "plt.plot(umapA[15:,0],umapA[15:,1],'.',label='base')\n",
    "plt.legend()"
   ]
  },
  {
   "cell_type": "code",
   "execution_count": null,
   "id": "40a8f22d-c2ac-4e46-8ed0-3f3ff6f9db96",
   "metadata": {},
   "outputs": [],
   "source": [
    "d=distance_from_base(30,2000,plot=True)"
   ]
  },
  {
   "cell_type": "code",
   "execution_count": null,
   "id": "a5c34bb9-c6a2-416c-89e4-730c98e399be",
   "metadata": {},
   "outputs": [],
   "source": [
    "acc[0,1].mean()"
   ]
  },
  {
   "cell_type": "code",
   "execution_count": null,
   "id": "4a747ef2-504d-4503-badf-c630d0b18241",
   "metadata": {},
   "outputs": [],
   "source": [
    "proj=55\n",
    "run=1000\n",
    "diff=distance_from_base(proj+1,run)-distance_from_base(0,run)\n",
    "print('diff mean', diff.mean().item())\n",
    "boost=acc[:,1,run].mean(-1)[proj+1]-acc[:,1,run].mean(-1)[0]\n",
    "print('boost proj ',str(proj) ,': ', boost.item() )\n",
    "plt.figure()\n",
    "plt.imshow(diff.detach().numpy(),aspect='auto')\n",
    "plt.colorbar()\n",
    "plt.title('run '+str(run)+' diff proj '+str(proj)+' and no proj')\n",
    "plt.xlabel('64 base class mean')\n",
    "plt.ylabel('FS prototype of class')\n",
    "plt.figure()\n",
    "plt.plot(acc[:,1,run].mean(-1),'*')\n",
    "plt.hlines(y=acc[:,1,run].mean(-1)[0],xmin=0,xmax=65)\n",
    "plt.grid()"
   ]
  },
  {
   "cell_type": "code",
   "execution_count": null,
   "id": "03fd222d-fad3-4ea7-ae8e-dc37969d1ff1",
   "metadata": {},
   "outputs": [],
   "source": [
    "plt.figure()\n",
    "plt.imshow(diff23.detach().numpy()-diff25.detach().numpy(),aspect='auto')\n",
    "plt.colorbar()"
   ]
  },
  {
   "cell_type": "code",
   "execution_count": null,
   "id": "b193ed52-f4a7-430b-80c8-d020d4c64023",
   "metadata": {},
   "outputs": [],
   "source": [
    "proj=5\n",
    "run=50\n",
    "diff=distance_from_base(0,run,letter='B')-distance_from_base(proj,run,letter='B')\n",
    "boost=acc[:,1,run].mean(-1)[0]-acc[:,1,run].mean(-1)[proj+1]\n",
    "print('boost proj ',str(proj) ,': ', boost )\n",
    "plt.figure()\n",
    "plt.imshow(diff.detach().numpy(),aspect='auto')\n",
    "plt.colorbar()\n",
    "plt.title('run '+str(run)+' diff proj '+str(proj)+' and no proj')\n",
    "plt.xlabel('64 base class mean')\n",
    "plt.ylabel('FS prototype of class')\n",
    "plt.figure()\n",
    "plt.plot(accB[:,1,run].mean(-1),'*')\n",
    "plt.hlines(y=accB[:,1,run].mean(-1)[0],xmin=0,xmax=65)\n",
    "plt.grid()"
   ]
  },
  {
   "cell_type": "code",
   "execution_count": null,
   "id": "d3684e64-3e3e-4bd3-a2ea-324ae8243653",
   "metadata": {},
   "outputs": [],
   "source": [
    "da,db = distance_from_base(-1,-1,letter='A',plot=True),distance_from_base(-1,-1,letter='B',plot=True)\n",
    "plt.figure()\n",
    "plt.title('difference between backbone A and B on novel dataset means \\n projection on base dataset means')\n",
    "plt.imshow(da-db,aspect='auto')\n",
    "plt.colorbar()"
   ]
  },
  {
   "cell_type": "code",
   "execution_count": null,
   "id": "7481c57a-6db3-4a00-bc23-fadb542891a4",
   "metadata": {},
   "outputs": [],
   "source": [
    "D64 = torch.cdist(base_mean,base_mean)\n",
    "plt.figure()\n",
    "plt.imshow(D64,aspect='auto')\n",
    "plt.colorbar()"
   ]
  },
  {
   "cell_type": "code",
   "execution_count": null,
   "id": "7a958211-1d05-4562-96b9-e9b5c1bf9bee",
   "metadata": {},
   "outputs": [],
   "source": [
    "Dclassifier = torch.cdist(classifier,classifier)\n",
    "plt.figure()\n",
    "plt.imshow(Dclassifier.detach().numpy(),aspect='auto')\n",
    "plt.colorbar()"
   ]
  },
  {
   "cell_type": "code",
   "execution_count": null,
   "id": "3bc52353-36c0-4a5e-8a8c-a5be6d15d6a0",
   "metadata": {},
   "outputs": [],
   "source": [
    "def look_run(run,proj,acc=acc,feat=feat,sample=0):\n",
    "    print(acc[proj,0,run])\n",
    "    best_class = acc[:,1,run].mean(-1).argsort(descending=True)[:2]\n",
    "    print(best_class)\n",
    "    plt.figure()\n",
    "    plt.plot(acc[0,1,run],'.',label='no projection')\n",
    "    plt.plot(acc[best_class[0],1,run],'.',label='best '+str(best_class[0].int().item()-1))\n",
    "    plt.plot(acc[best_class[1],1,run],'.',label='2nd best '+ str(best_class[1].int().item()-1))\n",
    "    plt.xlabel('classe')\n",
    "    plt.ylabel('accuracy')\n",
    "    plt.legend()\n",
    "    plt.figure()\n",
    "    plt.plot(acc[:,1,run].mean(-1),'-.')\n",
    "    plt.hlines(y=acc[0,1,run].mean(-1),xmin=0, xmax = 65)\n",
    "    plt.xlabel('projection removed')\n",
    "    plt.ylabel('accuracy')\n",
    "    return acc[:,1,run].mean(-1)"
   ]
  },
  {
   "cell_type": "code",
   "execution_count": null,
   "id": "0ddda4f5-0f9d-4cdb-83a6-64a63155cb04",
   "metadata": {},
   "outputs": [],
   "source": [
    "feat20 = look_run(13,0)"
   ]
  },
  {
   "cell_type": "code",
   "execution_count": null,
   "id": "c4563e96-8e57-4765-a039-7eac42871b5d",
   "metadata": {},
   "outputs": [],
   "source": [
    "class_mean = feat.mean(2)\n",
    "print(class_mean.shape)"
   ]
  },
  {
   "cell_type": "code",
   "execution_count": null,
   "id": "a55f23e9-201a-4465-a63e-5b4cb15969f8",
   "metadata": {},
   "outputs": [],
   "source": [
    "D = torch.cdist(class_mean,class_mean).detach().numpy()"
   ]
  },
  {
   "cell_type": "code",
   "execution_count": null,
   "id": "e945a1fd-138e-48ab-9be6-ea851ed0d25c",
   "metadata": {},
   "outputs": [],
   "source": [
    "plt.imshow(D[15]-D[0])\n",
    "plt.colorbar()"
   ]
  },
  {
   "cell_type": "markdown",
   "id": "de77bc51-503e-4e09-a968-aded28f9ac35",
   "metadata": {},
   "source": [
    "On a observé le changement de distance entre moyennes de classe pour différentes projections. Les projections ne peuvent que diminuer les ditances entre classes car une dimension a été retirée. La première projection rapproche la classe 15 de la classe 7."
   ]
  },
  {
   "cell_type": "markdown",
   "id": "7b060632-7ca7-49dc-883b-5b317a04bf21",
   "metadata": {},
   "source": [
    "On essaie de trouver 2 runs avec les même classes pour voir si l'erreur est la même."
   ]
  },
  {
   "cell_type": "code",
   "execution_count": null,
   "id": "df2cbf84-79d6-4e04-abab-99e3230c7b95",
   "metadata": {},
   "outputs": [],
   "source": [
    "def generate_FS(run,n_shot=5,n_ways=5, hyperplan=False,plot=False,plot15=None,tsne=None,projvar=False):\n",
    "    targets = torch.arange(n_ways).unsqueeze(1).unsqueeze(0)\n",
    "    classes = acc[0,0,run].int().long()\n",
    "    feature = feat[:,classes]\n",
    "    feature = feature[:,:,torch.randperm(600)]\n",
    "    feature=feature[:,:,:20]\n",
    "    if tsne!=None:\n",
    "        plot_tsne(feature,0,n_ways)\n",
    "        plot_tsne(feature,tsne,n_ways)\n",
    "    dim = feature.shape[-1]\n",
    "    means = torch.mean(feature[:,:,:n_shot], dim = 2)\n",
    "    if hyperplan:\n",
    "        VARDIST=hyperplan_fn(feature, means, plot)\n",
    "        \n",
    "    distances = torch.norm(feature[:,:,n_shot:].reshape(feature.shape[0], n_ways, 1, -1, dim) - means.reshape(feature.shape[0], 1, n_ways, 1, dim), dim = 4, p = 2)\n",
    "    if plot15!=None:\n",
    "        plt.figure()\n",
    "        plt.xlabel('15 few shot query' )\n",
    "        plt.ylabel('query from FS class 5 shot classes')\n",
    "        plt.title('distance to mean of FS class ' + str(plot15) + ' for all examples')\n",
    "        plt.imshow(distances[0,plot15,:,:].detach().numpy(),aspect='auto')\n",
    "        plt.colorbar()\n",
    "    winners = torch.min(distances, dim = 2)[1]\n",
    "    accuracy = (winners == targets).float().mean(2)\n",
    "    \n",
    "    if plot:\n",
    "        plt.figure()\n",
    "        plt.plot(accuracy[0],'*')\n",
    "        plt.figure()\n",
    "        plt.xlabel('projection base class')\n",
    "        plt.ylabel('accuracy')\n",
    "        plt.plot(np.arange(65),accuracy.mean(-1),'-.')\n",
    "        #plt.grid(which='both')\n",
    "        plt.hlines(y=accuracy.mean(-1)[0],xmin=0, xmax = 65)\n",
    "        plt.xticks(np.arange(0,65,3))\n",
    "        if hyperplan:\n",
    "            plt.figure()\n",
    "            plt.plot(VARDIST.detach().numpy(),accuracy.mean(-1)[1:],'.')\n",
    "            plt.hlines(y=accuracy.mean(-1)[0],xmin=0, xmax = 0.02)\n",
    "            plt.xlabel('variance over 5 ways of distance of the 5 way wrt the projected base class')\n",
    "            plt.ylabel('accuracy of the prediction with such projection')\n",
    "    if projvar:\n",
    "        print('hello')\n",
    "        var,men=get_variance_over64(feature)\n",
    "        plt.figure()\n",
    "        plt.plot(var[0,classes].sum(0),accuracy.mean(-1)[1:],'.')\n",
    "        plt.xlabel('sum var projection on base class')\n",
    "        plt.ylabel('accuracy')\n",
    "        plt.hlines(y=accuracy.mean(-1)[0],xmin=0, xmax = 1)\n",
    "\n",
    "    return accuracy"
   ]
  },
  {
   "cell_type": "code",
   "execution_count": null,
   "id": "a4d7bd3c-ce24-436e-9373-895773bec353",
   "metadata": {},
   "outputs": [],
   "source": [
    "FS0 = generate_FS(100,plot=True,hyperplan=True,tsne=0)"
   ]
  },
  {
   "cell_type": "code",
   "execution_count": null,
   "id": "133e7e75-a48f-4f09-8b06-a1986e7ade54",
   "metadata": {},
   "outputs": [],
   "source": [
    "def get_variance_over64(feature_processed,n_shot=5,n_ways=5):\n",
    "    projection = torch.matmul(feature_processed, classifier.T)\n",
    "    var=torch.var(projection,dim=1).detach().numpy()\n",
    "    men=torch.mean(projection,dim=1).detach().numpy()\n",
    "    \n",
    "    #plt.plot(var.sum(0))\n",
    "    return var,men"
   ]
  },
  {
   "cell_type": "code",
   "execution_count": null,
   "id": "a57c3133-e6f6-4a04-b44c-e6a10a7bc0a8",
   "metadata": {},
   "outputs": [],
   "source": [
    "som=np.zeros((64), 'float32')\n",
    "somm=np.zeros((64), 'float32')\n",
    "for i in tqdm(range(100)):\n",
    "    classes = acc[0,0,0].int().long()\n",
    "    feature = feat[:,classes]\n",
    "    feature = feature[:,:,torch.randperm(600)]\n",
    "    feature=feature[0,:,:5]\n",
    "    var,men=get_variance_over64(feature)\n",
    "    som+=var.sum(0)\n",
    "    somm+=men.sum(0)\n",
    "plt.figure()\n",
    "plt.title('variance')\n",
    "plt.plot(som)\n",
    "plt.figure()\n",
    "plt.title('mean')\n",
    "plt.plot(somm)"
   ]
  },
  {
   "cell_type": "code",
   "execution_count": null,
   "id": "b4622e4c-0b2a-487e-89ed-af0d02f0e33b",
   "metadata": {},
   "outputs": [],
   "source": [
    "som=np.zeros((64), 'float32')\n",
    "somm=np.zeros((64), 'float32')\n",
    "for i in tqdm(range(100)):\n",
    "    classes = acc[0,0,0].int().long()\n",
    "    feature = feat[:,classes]\n",
    "    feature = feature[:,:,torch.randperm(600)]\n",
    "    feature=feature[0,:,:5]\n",
    "    var,men=get_variance_over64(feature)\n",
    "    som+=var.sum(0)\n",
    "    somm+=men.sum(0)\n",
    "plt.figure()\n",
    "plt.title('variance of novel class on base classe (100 times)')\n",
    "plt.plot(som)\n",
    "plt.figure()\n",
    "plt.title('mean of novel class on base classe (100 times)')\n",
    "plt.plot(somm)"
   ]
  },
  {
   "cell_type": "code",
   "execution_count": null,
   "id": "e5184fe6-c96c-439d-8188-565e05efb125",
   "metadata": {},
   "outputs": [],
   "source": [
    "som=np.zeros((64), 'float32')\n",
    "somm=np.zeros((64), 'float32')\n",
    "for i in tqdm(range(100)):\n",
    "    classes = acc[0,0,0].int().long()\n",
    "    feature = feat[:,classes]\n",
    "    feature = feature[:,:,torch.randperm(600)]\n",
    "    feature=feature[0,:,:5]\n",
    "    var,men=get_variance_over64(feature)\n",
    "    som+=var.sum(0)\n",
    "    somm+=men.sum(0)\n",
    "plt.figure()\n",
    "plt.title('variance')\n",
    "plt.plot(som)\n",
    "plt.figure()\n",
    "plt.title('mean')\n",
    "plt.plot(somm)"
   ]
  },
  {
   "cell_type": "code",
   "execution_count": null,
   "id": "51769ccd-6fd7-4b34-88f6-31ba1432b398",
   "metadata": {},
   "outputs": [],
   "source": [
    "som=np.zeros((64), 'float32')\n",
    "somm=np.zeros((64), 'float32')\n",
    "for i in tqdm(range(1)):\n",
    "    classes = acc[0,0,0].int().long()\n",
    "    feature = feat[:,classes]\n",
    "    feature = feature[:,:,torch.randperm(600)]\n",
    "    feature=feature[0,:,:5]\n",
    "    var,men=get_variance_over64(feature)\n",
    "    som+=var.sum(0)\n",
    "    somm+=men.sum(0)\n",
    "plt.figure()\n",
    "plt.title('variance')\n",
    "plt.plot(som)\n",
    "plt.figure()\n",
    "plt.title('mean')\n",
    "plt.plot(somm)"
   ]
  },
  {
   "cell_type": "markdown",
   "id": "b1020f50-4965-4990-ba40-4017d761ed50",
   "metadata": {},
   "source": [
    "A single 5 shot FS does not give the same class where variance is maximized as when tested on many samples (100 FS trials). Therefore the information would not be adapted for the 15 test samples of the FS trial ?! "
   ]
  },
  {
   "cell_type": "markdown",
   "id": "bb7c26ff-4793-4939-9dbd-e90662852485",
   "metadata": {},
   "source": [
    "\n",
    "\n",
    "Let's now try with some the hyperplan finding. "
   ]
  },
  {
   "cell_type": "code",
   "execution_count": null,
   "id": "3d929de2-731b-4359-b505-1872a60ba14e",
   "metadata": {},
   "outputs": [],
   "source": [
    "FS0 = generate_FS(100,plot=True,hyperplan=True)"
   ]
  },
  {
   "cell_type": "code",
   "execution_count": null,
   "id": "6a3d36d3-d2b8-4a8a-9327-850197c09ab6",
   "metadata": {},
   "outputs": [],
   "source": [
    "FS0 = generate_FS(100,projvar=True)"
   ]
  },
  {
   "cell_type": "code",
   "execution_count": null,
   "id": "99107ab8-c31b-415b-8c93-097a9d6eb97d",
   "metadata": {},
   "outputs": [],
   "source": [
    "filenametrain = '/home/r21lafar/Documents/dataset/miniimagenetimages/train.csv'\n",
    "filenametest = '/home/r21lafar/Documents/dataset/miniimagenetimages/test.csv'\n",
    "directory = '/home/r21lafar/Documents/dataset/miniimagenetimages/images/'\n",
    "\n",
    "def extract_best_proj(acc,run,number_of_best=1):\n",
    "    if number_of_best==1:\n",
    "        return acc[:,run,:].mean(1).max().item(),acc[:,run,:].mean(1).argmax().item()-1\n",
    "    else:\n",
    "        sort=acc[:,run,:].mean(1).sort(descending=True)\n",
    "        return sort[0][:number_of_best],sort[1].int()[:number_of_best]-1\n",
    "\n",
    "def openimage(source, cl,title):\n",
    "    if source=='test':\n",
    "        src=test\n",
    "    else:\n",
    "        src=train\n",
    "    if type(cl)==int:\n",
    "        plt.figure(figsize=(5,5))\n",
    "        idx=int((cl+0.5)*600)+np.random.randint(-100,100)\n",
    "        filename=src[idx][0]\n",
    "        im = Image.open(directory +filename)\n",
    "        plt.title(title)\n",
    "        plt.imshow(np.array(im))\n",
    "    else:\n",
    "        fig = plt.figure(figsize=(8,8))\n",
    "        spec = mpl.gridspec.GridSpec(ncols=3, nrows=2)\n",
    "        ax1 = fig.add_subplot(spec[0,0])   #classe 0\n",
    "        ax2 = fig.add_subplot(spec[0,1])  #classe 1\n",
    "        ax3 = fig.add_subplot(spec[0,2])  # classe 2\n",
    "        ax4 = fig.add_subplot(spec[1,0])\n",
    "        ax5 = fig.add_subplot(spec[1,1])\n",
    "        L=[ax1,ax2,ax3,ax4,ax5]\n",
    "        for i,classe in enumerate(cl):\n",
    "            idx=int((classe+0.5)*600)+np.random.randint(-100,100)\n",
    "            filename=src[idx][0]\n",
    "            im = Image.open(directory +filename)\n",
    "            L[i].imshow(np.array(im))\n",
    "            L[i].set_title(str(i+1)+';'+str(classe))\n",
    "            \n",
    "def opencsv(filename):\n",
    "    file = open(filename)\n",
    "    csvreader = csv.reader(file)\n",
    "    header = []\n",
    "    header = next(csvreader)\n",
    "    print(header)\n",
    "    rowstrain = []\n",
    "    rows = []\n",
    "    for row in csvreader:\n",
    "        rows.append(row)\n",
    "    return rows\n",
    "\n",
    "test = opencsv(filenametest)\n",
    "train = opencsv(filenametrain)\n",
    "\n",
    "def get_run(classes,acc,run,number_of_best=1):\n",
    "    class_run=classes[0,run].int().tolist()\n",
    "    baseline=acc[0,run,:].mean()\n",
    "    best,best_class=extract_best_proj(acc,run,number_of_best)\n",
    "    print(best)\n",
    "    boostbest=best-baseline.repeat(number_of_best)\n",
    "    print('best_class',best_class)\n",
    "    print('boostbest',boostbest)\n",
    "    print(class_run)\n",
    "    return best_class,boostbest,class_run\n",
    "            \n",
    "def run_images_interpolation(classes,acc,run,test,train,choice=0):\n",
    "    best_class,boostbest,class_run = get_run(classes,acc,run,10)\n",
    "    best_class=best_class[choice].item()\n",
    "    boostbest=boostbest[choice].item()\n",
    "    openimage(test,train,'train', best_class, 'best class to remove')\n",
    "    openimage(test,train,'test', class_run, 'best class to remove')"
   ]
  },
  {
   "cell_type": "code",
   "execution_count": null,
   "id": "115ba550-1882-4534-9a8b-62f05b2ad948",
   "metadata": {},
   "outputs": [],
   "source": [
    "def openimg(cl,title):\n",
    "    if cl<64:\n",
    "        src=train\n",
    "    if cl>=80:\n",
    "        src=test\n",
    "        cl-=80\n",
    "    if type(cl)==int:\n",
    "        plt.figure(figsize=(5,5))\n",
    "        idx=int((cl+0.5)*600)+np.random.randint(-100,100)\n",
    "        filename=src[idx][0]\n",
    "        im = Image.open(directory +filename)\n",
    "        plt.title(title)\n",
    "        plt.imshow(np.array(im))"
   ]
  }
 ],
 "metadata": {
  "kernelspec": {
   "display_name": "Python 3 (ipykernel)",
   "language": "python",
   "name": "python3"
  },
  "language_info": {
   "codemirror_mode": {
    "name": "ipython",
    "version": 3
   },
   "file_extension": ".py",
   "mimetype": "text/x-python",
   "name": "python",
   "nbconvert_exporter": "python",
   "pygments_lexer": "ipython3",
   "version": "3.8.10"
  }
 },
 "nbformat": 4,
 "nbformat_minor": 5
}
