{
 "cells": [
  {
   "cell_type": "code",
   "execution_count": null,
   "id": "fce5aba5-69a2-46c3-bc24-d70740b5c0e6",
   "metadata": {},
   "outputs": [],
   "source": [
    "import torch\n",
    "import numpy as np\n",
    "import matplotlib.pyplot as plt\n",
    "from PIL import Image\n",
    "import csv\n",
    "import matplotlib as mpl"
   ]
  },
  {
   "cell_type": "code",
   "execution_count": null,
   "id": "7276a3e8-2d29-4f11-81fb-b5d97a94ea2c",
   "metadata": {},
   "outputs": [],
   "source": [
    "data=torch.load('complete_class_accuracy5shots',map_location=torch.device('cpu'))\n",
    "classes,acc = data[:,0,:,:],data[:,1,:,:]"
   ]
  },
  {
   "cell_type": "markdown",
   "id": "e069a434-89f1-4ba4-b0c8-1c33d45740ad",
   "metadata": {},
   "source": [
    "Let us look at how much of an increase in accuracy we could expect if we always took the best projection"
   ]
  },
  {
   "cell_type": "code",
   "execution_count": null,
   "id": "3095c2ab-726d-4b2e-924f-41fe57ec6db6",
   "metadata": {},
   "outputs": [],
   "source": [
    "baseline_runs=acc[0,:,:].mean(1)\n",
    "best_per_run=acc[1:,:,:].mean(2).max(0)[0]\n",
    "print((best_per_run-baseline_runs).mean().item()*100)\n",
    "print(torch.argsort(best_per_run-baseline_runs,descending=True))"
   ]
  },
  {
   "cell_type": "markdown",
   "id": "9e9883f1-f184-461d-a0c9-9fe8e7ea7982",
   "metadata": {},
   "source": [
    "The answer is a 3.24% increase in accuracy as a mean !"
   ]
  },
  {
   "cell_type": "code",
   "execution_count": null,
   "id": "3ef5fcf2-69bc-4d10-8a45-8390189c00f2",
   "metadata": {},
   "outputs": [],
   "source": [
    "for i in range(5):\n",
    "    plt.plot(acc[:,i,0],label='run'+str(i))\n",
    "plt.ylabel('accuracy')\n",
    "plt.xlabel('projection')\n",
    "plt.legend()\n",
    "plt.title('Accuracy for the second class of one 5 way few shot problem')"
   ]
  },
  {
   "cell_type": "code",
   "execution_count": null,
   "id": "369d75e2-61e2-4c55-9959-cd2390b75d04",
   "metadata": {},
   "outputs": [],
   "source": [
    "run=1\n",
    "baseline=acc[0,run,:].mean()\n",
    "plt.imshow(torch.cat((acc[:,run,:].mean(1).unsqueeze(-1),acc[:,run,:]),dim=1),aspect='auto')\n",
    "plt.colorbar()\n",
    "plt.xlabel('classes of the run number '+str(run)+ ' '+ str(classes[0,run].int().tolist()))\n",
    "plt.ylabel('projections')\n",
    "plt.title('Projection 0 corresponds to no projection. \\nThe first column is the mean of other columns ')"
   ]
  },
  {
   "cell_type": "code",
   "execution_count": null,
   "id": "063cf31d-26bb-432d-90c4-996679567a85",
   "metadata": {},
   "outputs": [],
   "source": [
    "runs=5\n",
    "color = plt.cm.rainbow(np.linspace(0, 1, runs))\n",
    "for run, c in zip(range(0,3), color):\n",
    "    baseline=acc[0,run,:].mean()\n",
    "    plt.axhline(baseline,c=c)\n",
    "    plt.plot(acc[:,run,:].mean(1),c=c,label='run'+str(run))\n",
    "plt.title('run  0 to '+str(runs) + '\\n projection 0 means no projection\\n straight lines are baselines')\n",
    "plt.ylabel('accuracy')\n",
    "plt.xlabel('projection')\n",
    "plt.legend()"
   ]
  },
  {
   "cell_type": "markdown",
   "id": "60d24917-8790-4e4e-9f6e-570353b60ef7",
   "metadata": {},
   "source": [
    "Let us now see if there is any logic begind which projection is the good one. Let us look at the classes themselves."
   ]
  },
  {
   "cell_type": "code",
   "execution_count": null,
   "id": "1b590f93-10bd-4cf9-950f-33e08fc18491",
   "metadata": {},
   "outputs": [],
   "source": [
    "def extract_best_proj(acc,run,number_of_best=1):\n",
    "    if number_of_best==1:\n",
    "        return acc[:,run,:].mean(1).max().item(),acc[:,run,:].mean(1).argmax().item()-1\n",
    "    else:\n",
    "        sort=acc[:,run,:].mean(1).sort(descending=True)\n",
    "\n",
    "\n",
    "\n",
    "def get_run(classes,acc,run,number_of_best=1):\n",
    "\n",
    "    class_run=classes[0,run].int().tolist()\n",
    "\n",
    "    baseline=acc[0,run,:].mean()\n",
    "\n",
    "    best,best_class=extract_best_proj(acc,run,number_of_best)\n",
    "\n",
    "    print(best)\n",
    "\n",
    "    boostbest=best-baseline.repeat(number_of_best)\n",
    "\n",
    "    print('best_class',best_class)\n",
    "\n",
    "    print('boostbest',boostbest)\n",
    "\n",
    "    print(class_run)\n",
    "\n",
    "    return best_class,boostbest,class_run\n",
    "\n",
    "print(get_run(classes,acc,4,2))\n",
    "\n"
   ]
  },
  {
   "cell_type": "markdown",
   "id": "d68e4ba6-9cc1-4373-9edc-8641fdb94000",
   "metadata": {},
   "source": [
    "Etude du run 4 : La \"best class to remove\" (19) du training set est celle qui represente des \"paresseux\". Elle permet de gagner un boost de 5%. Les classes 11 2 19 16 8 du test set sont les classes \"Bustes armure\" \"Grand chien (style golden retriever)\" \"Dessert à la fraise framboise vanille creme\" \"Pannaux affichage\" \"Furet\". D'après le 2D plot plus haut dans le run 4 il y a des erreurs entre le chien et le furet au run 4. La classe à enlever est celle du \"paresseux\" car elle rapproche ces deux classes dans l'espace des features. La ressemblance évidente entre ces 3 animaux saute aux yeux !\n",
    "\n",
    "Procédure pour choisir la classe à enlever : -repérer les couples de classes où il y a confusion (trop proche dans l'espace des features(à définir)) -prendre le vecteur moyen \"m\" de tous les exemples de ce couple de classe -repérer la classe (training set) la plus proche de \"m\" dans le linear layer du classifier de training set. -retirer cette contribution !\n",
    "\n",
    "Résumé : parmis les 64 classes du training set certaines peuvent se situer \"entre\" 2 classes du run de few shot. En entrainant le backbone une classe ressere d'espace des features autour de son veteur caractéristique et crée la confusion pour les classes qui se situent de par et d'autre de cette même classe.\n",
    "\n",
    "        return sort[0][:number_of_best],sort[1].int()[:number_of_best]-1"
   ]
  },
  {
   "cell_type": "code",
   "execution_count": null,
   "id": "476974ee-4913-4b7b-a400-3ada5b25d809",
   "metadata": {},
   "outputs": [],
   "source": [
    "def get_run(classes,acc,run,number_of_best=1):\n",
    "    class_run=classes[0,run].int().tolist()\n",
    "    baseline=acc[0,run,:].mean()\n",
    "    best,best_class=extract_best_proj(acc,run,number_of_best)\n",
    "    print(best)\n",
    "    boostbest=best-baseline.repeat(number_of_best)\n",
    "    print('best_class',best_class)\n",
    "    print('boostbest',boostbest)\n",
    "    print(class_run)\n",
    "    return best_class,boostbest,class_run"
   ]
  },
  {
   "cell_type": "code",
   "execution_count": null,
   "id": "b40b5de1-4605-471a-abf7-c2b111b814f0",
   "metadata": {},
   "outputs": [],
   "source": [
    "get_run(classes,acc,4,2)"
   ]
  },
  {
   "cell_type": "markdown",
   "id": "8f6636c9-7081-4257-aa1c-ebdf1e5b68a8",
   "metadata": {},
   "source": [
    "Etude du run 4 : La \"best class to remove\" (19) du training set est celle qui represente des \"paresseux\". Elle permet de gagner un boost de 5%. Les classes 11 2 19 16 8 du test set sont les classes \"Bustes armure\" \"Grand chien (style golden retriever)\" \"Dessert à la fraise framboise vanille creme\" \"Pannaux affichage\" \"Furet\". D'après le 2D plot plus haut dans le run 4 il y a des erreurs entre le chien et le furet au run 4. La classe à enlever est celle du \"paresseux\" car elle rapproche ces deux classes dans l'espace des features. La ressemblance évidente entre ces 3 animaux saute aux yeux  ! "
   ]
  },
  {
   "cell_type": "markdown",
   "id": "866c6452-154a-4548-ba39-25139491fbce",
   "metadata": {},
   "source": [
    "Procédure pour choisir la classe à enlever : \n",
    "-repérer les couples de classes où il y a confusion (trop proche dans l'espace des features(à définir))\n",
    "-prendre le vecteur moyen \"m\" de tous les exemples de ce couple de classe\n",
    "-repérer la classe (training set) la plus proche de \"m\" dans le linear layer du classifier de training set.\n",
    "-retirer cette contribution ! "
   ]
  },
  {
   "cell_type": "markdown",
   "id": "81f35e1d-c717-41c5-923e-baa09d41e2eb",
   "metadata": {},
   "source": [
    "Résumé : parmis les 64 classes du training set certaines peuvent se situer \"entre\" 2 classes du run de few shot.\n",
    "En entrainant le backbone une classe ressere d'espace des features autour de son veteur caractéristique et crée la confusion pour les classes qui se situent de par et d'autre de cette même classe."
   ]
  },
  {
   "cell_type": "code",
   "execution_count": null,
   "id": "ae9f22d1-960d-4a61-8d14-b68d50abaeaa",
   "metadata": {},
   "outputs": [],
   "source": [
    "acc[34,4]-acc[0,4]"
   ]
  },
  {
   "cell_type": "markdown",
   "id": "7bcdeb21-c0f4-4e97-aef7-65a0247318b0",
   "metadata": {},
   "source": [
    "Il semblerait qu'enlever la contribution de la classe 33 (poele casserole) cause la confusion entre le chien et le buste d'armure. (reconnaissance d'objet metallique). J'aurais plutôt attendu des soucis entre la l'armure et le dessert (plat)."
   ]
  },
  {
   "cell_type": "code",
   "execution_count": null,
   "id": "15686794-7782-46e0-b29f-258929bb6995",
   "metadata": {},
   "outputs": [],
   "source": [
    "import csv\n",
    "filenametrain = '/home/r21lafar/Documents/dataset/miniimagenetimages/train.csv'\n",
    "filenametest = '/home/r21lafar/Documents/dataset/miniimagenetimages/test.csv'\n",
    "directory = '/home/r21lafar/Documents/dataset/miniimagenetimages/images/'"
   ]
  },
  {
   "cell_type": "code",
   "execution_count": null,
   "id": "3ae45638-5d18-49d3-8cef-49b9e658f3ce",
   "metadata": {},
   "outputs": [],
   "source": [
    "def opencsv(filename):\n",
    "    file = open(filename)\n",
    "    csvreader = csv.reader(file)\n",
    "    header = []\n",
    "    header = next(csvreader)\n",
    "    print(header)\n",
    "    rowstrain = []\n",
    "    rows = []\n",
    "    for row in csvreader:\n",
    "        rows.append(row)\n",
    "    return rows"
   ]
  },
  {
   "cell_type": "code",
   "execution_count": null,
   "id": "f9dd5fcc-af35-450c-a134-9347ebcfb758",
   "metadata": {},
   "outputs": [],
   "source": [
    "test = opencsv(filenametest)\n",
    "train = opencsv(filenametrain)"
   ]
  },
  {
   "cell_type": "code",
   "execution_count": null,
   "id": "2784a90e-97f2-4b11-a175-fcd98fe9db97",
   "metadata": {},
   "outputs": [],
   "source": [
    "def openimage(test,train,source, cl,title):\n",
    "    if source=='test':\n",
    "        src=test\n",
    "    else:\n",
    "        src=train\n",
    "    if type(cl)==int:\n",
    "        plt.figure(figsize=(5,5))\n",
    "        idx=int((cl+0.5)*600)+np.random.randint(-100,100)\n",
    "        filename=src[idx][0]\n",
    "        im = Image.open(directory +filename)\n",
    "        plt.title(title)\n",
    "        plt.imshow(np.array(im))\n",
    "    else:\n",
    "        fig = plt.figure(figsize=(8,8))\n",
    "        spec = mpl.gridspec.GridSpec(ncols=3, nrows=2)\n",
    "        ax1 = fig.add_subplot(spec[0,0])   #classe 0\n",
    "        ax2 = fig.add_subplot(spec[0,1])  #classe 1\n",
    "        ax3 = fig.add_subplot(spec[0,2])  # classe 2\n",
    "        ax4 = fig.add_subplot(spec[1,0])\n",
    "        ax5 = fig.add_subplot(spec[1,1])\n",
    "        L=[ax1,ax2,ax3,ax4,ax5]\n",
    "        for i,classe in enumerate(cl):\n",
    "            idx=int((classe+0.5)*600)+np.random.randint(-100,100)\n",
    "            filename=src[idx][0]\n",
    "            im = Image.open(directory +filename)\n",
    "            L[i].imshow(np.array(im))\n",
    "            L[i].set_title(str(i+1)+';'+str(classe))\n",
    "    "
   ]
  },
  {
   "cell_type": "code",
   "execution_count": null,
   "id": "31f286b8-49c1-4daa-952a-69309413c778",
   "metadata": {},
   "outputs": [],
   "source": [
    "def run_images_interpolation(classes,acc,run,test,train,choice=0):\n",
    "    best_class,boostbest,class_run = get_run(classes,acc,run,10)\n",
    "    best_class=best_class[choice].item()\n",
    "    boostbest=boostbest[choice].item()\n",
    "    openimage(test,train,'train', best_class, 'best class to remove')\n",
    "    openimage(test,train,'test', class_run, 'best class to remove')\n",
    "    plt.figure()\n",
    "    plt.plot(range(1,6),acc[best_class+1,run]-acc[0,run],'*',label='boost')\n",
    "    #plt.plot(range(1,6),acc[0,run]/10,'*',label='baseline /10')\n",
    "    plt.xlabel('class of few_shot')\n",
    "    plt.ylabel('perf')\n",
    "    plt.legend()\n",
    "    print('CHOICE',best_class,boostbest)"
   ]
  },
  {
   "cell_type": "code",
   "execution_count": null,
   "id": "9e2ee86f-dc93-4a55-91be-744298f82df9",
   "metadata": {},
   "outputs": [],
   "source": [
    "run=4\n",
    "choice=0  #which of the first best would you like to remove\n",
    "run_images_interpolation(classes,acc,run,test,train,choice)"
   ]
  },
  {
   "cell_type": "code",
   "execution_count": null,
   "id": "bad7f14c-5269-4378-a8c9-bcfd81e58729",
   "metadata": {},
   "outputs": [],
   "source": []
  },
  {
   "cell_type": "code",
   "execution_count": null,
   "id": "979f23e8-bb62-42d1-9078-72f220ec26ea",
   "metadata": {},
   "outputs": [],
   "source": []
  },
  {
   "cell_type": "code",
   "execution_count": null,
   "id": "e332037c-9354-4246-908d-dce8c7147d1c",
   "metadata": {},
   "outputs": [],
   "source": []
  },
  {
   "cell_type": "code",
   "execution_count": null,
   "id": "33480088-2a54-446c-89e7-378208efed0e",
   "metadata": {},
   "outputs": [],
   "source": []
  }
 ],
 "metadata": {
  "kernelspec": {
   "display_name": "Python 3 (ipykernel)",
   "language": "python",
   "name": "python3"
  },
  "language_info": {
   "codemirror_mode": {
    "name": "ipython",
    "version": 3
   },
   "file_extension": ".py",
   "mimetype": "text/x-python",
   "name": "python",
   "nbconvert_exporter": "python",
   "pygments_lexer": "ipython3",
   "version": "3.8.10"
  }
 },
 "nbformat": 4,
 "nbformat_minor": 5
}
